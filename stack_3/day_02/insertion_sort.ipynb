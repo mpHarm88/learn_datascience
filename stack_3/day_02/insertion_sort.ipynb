{
  "nbformat": 4,
  "nbformat_minor": 0,
  "metadata": {
    "colab": {
      "name": "insertion_sort.ipynb",
      "provenance": []
    },
    "kernelspec": {
      "name": "python3",
      "display_name": "Python 3"
    }
  },
  "cells": [
    {
      "cell_type": "code",
      "metadata": {
        "id": "FEuifOSuwsON"
      },
      "source": [
        "import random\n",
        "\n",
        "# Generate list of random values\n",
        "ls = [random.randint(1,100) for x in range(10)]"
      ],
      "execution_count": 20,
      "outputs": []
    },
    {
      "cell_type": "code",
      "metadata": {
        "colab": {
          "base_uri": "https://localhost:8080/"
        },
        "id": "2nIhF6fYWqkn",
        "outputId": "b8ad5790-13ee-4e3d-e7d1-490651e0b275"
      },
      "source": [
        "print(f\"{ls} -> Original List \\n\")\n",
        "\n",
        "def insertion_sort(ls):\n",
        "    \"\"\"\n",
        "    A function that utilizes the insertion sort algorithm to sort a unsorted list\n",
        "\n",
        "    ls = unsorted list object of numerical values\n",
        "    \"\"\"\n",
        "\n",
        "    # Sorted values counter\n",
        "    already_sorted = 1\n",
        "\n",
        "    # Loop over list\n",
        "    for x in range(len(ls)):\n",
        "\n",
        "        print(f\"------Interval: {x}------\")\n",
        "        print(f\"List before sort:\\n{ls}\\n\")\n",
        "\n",
        "        # Dont change first element in list\n",
        "        if x == 0:\n",
        "            print(f\"List after sort:\\n{ls}\\n\")\n",
        "            continue\n",
        "\n",
        "        # Hold the number being compared\n",
        "        temp = ls.pop(x)\n",
        "\n",
        "        # Loop over rest of list and break loop once conditional is met\n",
        "        for y in range(already_sorted+1):\n",
        "\n",
        "            # Insert temp at end of sorted list half if at end fo index and temp is greater than ls[x] \n",
        "            if ((y == already_sorted) & (temp >= ls[y-1])):\n",
        "                ls.insert(y, temp)\n",
        "                break\n",
        "            \n",
        "            # If temp is <= then insert at x\n",
        "            elif temp <= ls[y]:\n",
        "                ls.insert(y,temp)\n",
        "                break\n",
        "            \n",
        "            # If  temp is greater then continue\n",
        "            elif temp >= ls[y]:\n",
        "                continue\n",
        "        \n",
        "        # Increment sorted counter\n",
        "        already_sorted+=1\n",
        "\n",
        "        print(f\"List after sort:\\n{ls}\\n\")\n",
        "\n",
        "    return ls\n",
        "\n",
        "print(f\"{insertion_sort(ls)} -> Sorted List\")"
      ],
      "execution_count": 21,
      "outputs": [
        {
          "output_type": "stream",
          "text": [
            "[71, 31, 31, 14, 93, 75, 66, 24, 49, 62] -> Original List \n",
            "\n",
            "------Interval: 0------\n",
            "List before sort:\n",
            "[71, 31, 31, 14, 93, 75, 66, 24, 49, 62]\n",
            "\n",
            "List after sort:\n",
            "[71, 31, 31, 14, 93, 75, 66, 24, 49, 62]\n",
            "\n",
            "------Interval: 1------\n",
            "List before sort:\n",
            "[71, 31, 31, 14, 93, 75, 66, 24, 49, 62]\n",
            "\n",
            "List after sort:\n",
            "[31, 71, 31, 14, 93, 75, 66, 24, 49, 62]\n",
            "\n",
            "------Interval: 2------\n",
            "List before sort:\n",
            "[31, 71, 31, 14, 93, 75, 66, 24, 49, 62]\n",
            "\n",
            "List after sort:\n",
            "[31, 31, 71, 14, 93, 75, 66, 24, 49, 62]\n",
            "\n",
            "------Interval: 3------\n",
            "List before sort:\n",
            "[31, 31, 71, 14, 93, 75, 66, 24, 49, 62]\n",
            "\n",
            "List after sort:\n",
            "[14, 31, 31, 71, 93, 75, 66, 24, 49, 62]\n",
            "\n",
            "------Interval: 4------\n",
            "List before sort:\n",
            "[14, 31, 31, 71, 93, 75, 66, 24, 49, 62]\n",
            "\n",
            "List after sort:\n",
            "[14, 31, 31, 71, 93, 75, 66, 24, 49, 62]\n",
            "\n",
            "------Interval: 5------\n",
            "List before sort:\n",
            "[14, 31, 31, 71, 93, 75, 66, 24, 49, 62]\n",
            "\n",
            "List after sort:\n",
            "[14, 31, 31, 71, 75, 93, 66, 24, 49, 62]\n",
            "\n",
            "------Interval: 6------\n",
            "List before sort:\n",
            "[14, 31, 31, 71, 75, 93, 66, 24, 49, 62]\n",
            "\n",
            "List after sort:\n",
            "[14, 31, 31, 66, 71, 75, 93, 24, 49, 62]\n",
            "\n",
            "------Interval: 7------\n",
            "List before sort:\n",
            "[14, 31, 31, 66, 71, 75, 93, 24, 49, 62]\n",
            "\n",
            "List after sort:\n",
            "[14, 24, 31, 31, 66, 71, 75, 93, 49, 62]\n",
            "\n",
            "------Interval: 8------\n",
            "List before sort:\n",
            "[14, 24, 31, 31, 66, 71, 75, 93, 49, 62]\n",
            "\n",
            "List after sort:\n",
            "[14, 24, 31, 31, 49, 66, 71, 75, 93, 62]\n",
            "\n",
            "------Interval: 9------\n",
            "List before sort:\n",
            "[14, 24, 31, 31, 49, 66, 71, 75, 93, 62]\n",
            "\n",
            "List after sort:\n",
            "[14, 24, 31, 31, 49, 62, 66, 71, 75, 93]\n",
            "\n",
            "[14, 24, 31, 31, 49, 62, 66, 71, 75, 93] -> Sorted List\n"
          ],
          "name": "stdout"
        }
      ]
    },
    {
      "cell_type": "code",
      "metadata": {
        "id": "kTUwXHvYGbYm"
      },
      "source": [
        ""
      ],
      "execution_count": null,
      "outputs": []
    }
  ]
}