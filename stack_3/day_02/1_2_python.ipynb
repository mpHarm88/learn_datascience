{
 "cells": [
  {
   "cell_type": "markdown",
   "metadata": {},
   "source": [
    "#### Jupyter Lab Documentation\n",
    "\n",
    "Find the Docs [here](\"https://jupyterlab.readthedocs.io/en/stable/\")\n",
    "\n",
    "Welcome to Jupyter Lab; this will be a brief tutorial exploring some of the Jupyter Lab features. The cheat sheet below is for Jupyter Notebooks, but many features carry over in Jupyter Lab. This is a Markdown cell, and if you double click it, you can see how I imported the image below.\n",
    "\n",
    "![Jupyter Cheatsheet](./Jupyter_Notebook_Cheat_Sheet.jpg)"
   ]
  },
  {
   "cell_type": "markdown",
   "metadata": {},
   "source": [
    "## Python Week 1 Day 1\n",
    "\n",
    "Today we will cover the basics of Python, including strings, functions, loops, conditionals.\n",
    "\n",
    "Feel free to adjust any code in this notebook to get a better understanding of what is happening.\n",
    "\n",
    "Here are the [Python Docs](https://docs.python.org/3/).\n",
    "\n",
    "![Python Cheatsheet](PythonForDataScience.jpg)"
   ]
  },
  {
   "cell_type": "markdown",
   "metadata": {},
   "source": [
    "### Strings\n",
    "\n",
    "[String Documentation](https://docs.python.org/3/library/stdtypes.html#string-methods)\n",
    "\n",
    "Strings are any characters contained in between single, double, or triple quotes.\n",
    "\n",
    "They are of the `str` type meaning string"
   ]
  },
  {
   "cell_type": "code",
   "execution_count": 9,
   "metadata": {},
   "outputs": [
    {
     "data": {
      "text/plain": [
       "'Hello World 1'"
      ]
     },
     "execution_count": 9,
     "metadata": {},
     "output_type": "execute_result"
    }
   ],
   "source": [
    "# Using double quotes to make a string\n",
    "\"Hello World 1\""
   ]
  },
  {
   "cell_type": "code",
   "execution_count": 10,
   "metadata": {},
   "outputs": [
    {
     "data": {
      "text/plain": [
       "'Helo World 2'"
      ]
     },
     "execution_count": 10,
     "metadata": {},
     "output_type": "execute_result"
    }
   ],
   "source": [
    "# Using single quotes to make a string\n",
    "'Helo World 2'"
   ]
  },
  {
   "cell_type": "code",
   "execution_count": 11,
   "metadata": {},
   "outputs": [
    {
     "data": {
      "text/plain": [
       "'\\nHello\\nWorld\\n3\\n'"
      ]
     },
     "execution_count": 11,
     "metadata": {},
     "output_type": "execute_result"
    }
   ],
   "source": [
    "# Triple Quotes to make a multiline string. the \"\\n\" just means that \n",
    "# a new line will occur if printed\n",
    "\"\"\"\n",
    "Hello\n",
    "World\n",
    "3\n",
    "\"\"\""
   ]
  },
  {
   "cell_type": "code",
   "execution_count": 12,
   "metadata": {},
   "outputs": [
    {
     "data": {
      "text/plain": [
       "'Double \" \" Quotes '"
      ]
     },
     "execution_count": 12,
     "metadata": {},
     "output_type": "execute_result"
    }
   ],
   "source": [
    "# Single quotes allow for embedded double quotes\n",
    "'Double \" \" Quotes '"
   ]
  },
  {
   "cell_type": "code",
   "execution_count": 13,
   "metadata": {},
   "outputs": [
    {
     "data": {
      "text/plain": [
       "\"Single ' ' Quotes\""
      ]
     },
     "execution_count": 13,
     "metadata": {},
     "output_type": "execute_result"
    }
   ],
   "source": [
    "# Double quotes allow for embedded single quotes\n",
    "\"Single ' ' Quotes\""
   ]
  },
  {
   "cell_type": "code",
   "execution_count": 16,
   "metadata": {},
   "outputs": [
    {
     "name": "stdout",
     "output_type": "stream",
     "text": [
      "Hello World\n"
     ]
    }
   ],
   "source": [
    "# Printing strings\n",
    "print(\"Hello World\")"
   ]
  },
  {
   "cell_type": "code",
   "execution_count": 17,
   "metadata": {},
   "outputs": [
    {
     "name": "stdout",
     "output_type": "stream",
     "text": [
      "Hello World\n"
     ]
    }
   ],
   "source": [
    "# Printing multiple strings\n",
    "print(\"Hello\", 'World')"
   ]
  },
  {
   "cell_type": "code",
   "execution_count": 29,
   "metadata": {},
   "outputs": [
    {
     "data": {
      "text/plain": [
       "['__add__',\n",
       " '__class__',\n",
       " '__contains__',\n",
       " '__delattr__',\n",
       " '__dir__',\n",
       " '__doc__',\n",
       " '__eq__',\n",
       " '__format__',\n",
       " '__ge__',\n",
       " '__getattribute__',\n",
       " '__getitem__',\n",
       " '__getnewargs__',\n",
       " '__gt__',\n",
       " '__hash__',\n",
       " '__init__',\n",
       " '__init_subclass__',\n",
       " '__iter__',\n",
       " '__le__',\n",
       " '__len__',\n",
       " '__lt__',\n",
       " '__mod__',\n",
       " '__mul__',\n",
       " '__ne__',\n",
       " '__new__',\n",
       " '__reduce__',\n",
       " '__reduce_ex__',\n",
       " '__repr__',\n",
       " '__rmod__',\n",
       " '__rmul__',\n",
       " '__setattr__',\n",
       " '__sizeof__',\n",
       " '__str__',\n",
       " '__subclasshook__',\n",
       " 'capitalize',\n",
       " 'casefold',\n",
       " 'center',\n",
       " 'count',\n",
       " 'encode',\n",
       " 'endswith',\n",
       " 'expandtabs',\n",
       " 'find',\n",
       " 'format',\n",
       " 'format_map',\n",
       " 'index',\n",
       " 'isalnum',\n",
       " 'isalpha',\n",
       " 'isascii',\n",
       " 'isdecimal',\n",
       " 'isdigit',\n",
       " 'isidentifier',\n",
       " 'islower',\n",
       " 'isnumeric',\n",
       " 'isprintable',\n",
       " 'isspace',\n",
       " 'istitle',\n",
       " 'isupper',\n",
       " 'join',\n",
       " 'ljust',\n",
       " 'lower',\n",
       " 'lstrip',\n",
       " 'maketrans',\n",
       " 'partition',\n",
       " 'replace',\n",
       " 'rfind',\n",
       " 'rindex',\n",
       " 'rjust',\n",
       " 'rpartition',\n",
       " 'rsplit',\n",
       " 'rstrip',\n",
       " 'split',\n",
       " 'splitlines',\n",
       " 'startswith',\n",
       " 'strip',\n",
       " 'swapcase',\n",
       " 'title',\n",
       " 'translate',\n",
       " 'upper',\n",
       " 'zfill']"
      ]
     },
     "execution_count": 29,
     "metadata": {},
     "output_type": "execute_result"
    }
   ],
   "source": [
    "# What other methods are available to strings? Ignore the double underscore methods for now\n",
    "# We can use dir to see what is available to us\n",
    "dir(\"Hello World\")"
   ]
  },
  {
   "cell_type": "code",
   "execution_count": 22,
   "metadata": {},
   "outputs": [
    {
     "data": {
      "text/plain": [
       "'Hello world'"
      ]
     },
     "execution_count": 22,
     "metadata": {},
     "output_type": "execute_result"
    }
   ],
   "source": [
    "# Lets try the first method without double underscores\n",
    "\"hello world\".capitalize()"
   ]
  },
  {
   "cell_type": "code",
   "execution_count": 30,
   "metadata": {},
   "outputs": [
    {
     "name": "stdout",
     "output_type": "stream",
     "text": [
      "Help on method_descriptor:\n",
      "\n",
      "center(self, width, fillchar=' ', /)\n",
      "    Return a centered string of length width.\n",
      "    \n",
      "    Padding is done using the specified fill character (default is a space).\n",
      "\n"
     ]
    }
   ],
   "source": [
    "# What does the third one do? We can find out using the help and the using the type name\n",
    "\n",
    "# Notice we dont call the function with parentheses at the end \n",
    "# like we normally would with methods\n",
    "\n",
    "help(str.center)"
   ]
  },
  {
   "cell_type": "markdown",
   "metadata": {},
   "source": [
    "### Variables\n",
    "\n",
    "Variables are created the moment you first assign a value to it. Variables do not need to be declared with any particular type (string, double, int, etc.). They can even change after assignment"
   ]
  },
  {
   "cell_type": "code",
   "execution_count": 67,
   "metadata": {},
   "outputs": [
    {
     "name": "stdout",
     "output_type": "stream",
     "text": [
      "Hello World 8\n"
     ]
    }
   ],
   "source": [
    "# Assigning variables and printing the variable names\n",
    "x = \"Hello\"\n",
    "y = \"World\"\n",
    "z = 8\n",
    "\n",
    "print(x, y, z)"
   ]
  },
  {
   "cell_type": "code",
   "execution_count": 48,
   "metadata": {},
   "outputs": [
    {
     "name": "stdout",
     "output_type": "stream",
     "text": [
      "HelloWorld\n"
     ]
    }
   ],
   "source": [
    "# We can also add string together\n",
    "print(x+y)"
   ]
  },
  {
   "cell_type": "code",
   "execution_count": 49,
   "metadata": {},
   "outputs": [
    {
     "name": "stdout",
     "output_type": "stream",
     "text": [
      "Hello World\n"
     ]
    }
   ],
   "source": [
    "# We can use string and variables together\n",
    "print(x + \" \" + y)"
   ]
  },
  {
   "cell_type": "code",
   "execution_count": 50,
   "metadata": {},
   "outputs": [
    {
     "data": {
      "text/plain": [
       "'HelloHelloHelloHelloHelloHelloHelloHello'"
      ]
     },
     "execution_count": 50,
     "metadata": {},
     "output_type": "execute_result"
    }
   ],
   "source": [
    "# We can multiply strings too\n",
    "x*z"
   ]
  },
  {
   "cell_type": "markdown",
   "metadata": {},
   "source": [
    "#### Formatting Strings\n",
    "\n",
    "Variables make it easier for us to format our strings"
   ]
  },
  {
   "cell_type": "code",
   "execution_count": 41,
   "metadata": {},
   "outputs": [
    {
     "name": "stdout",
     "output_type": "stream",
     "text": [
      "When learning a new programming language you should always type 'Hello World'\n"
     ]
    }
   ],
   "source": [
    "# We can format our strings\n",
    "print(f\"When learning a new programming language you should always type '{x} {y}'\")"
   ]
  },
  {
   "cell_type": "code",
   "execution_count": 42,
   "metadata": {},
   "outputs": [
    {
     "name": "stdout",
     "output_type": "stream",
     "text": [
      "When learning a new programming language you should always type 'Hello World'\n"
     ]
    }
   ],
   "source": [
    "# We can also format like this\n",
    "print(\"When learning a new programming language you should always type '{} {}'\".format(x, y))"
   ]
  },
  {
   "cell_type": "code",
   "execution_count": 43,
   "metadata": {},
   "outputs": [
    {
     "name": "stdout",
     "output_type": "stream",
     "text": [
      "When learning a new programming language you should always type 'Hello World'\n"
     ]
    }
   ],
   "source": [
    "# And we can format like this\n",
    "print(\"When learning a new programming language you should always type '%s %s'\" % (x,y))"
   ]
  },
  {
   "cell_type": "markdown",
   "metadata": {},
   "source": [
    "### If Statements\n",
    "\n",
    "[If Docs](https://docs.python.org/3/tutorial/controlflow.html#if-statements)\n",
    "\n",
    "- `if` statements are used for conditional statements\n",
    "- Use `elif` in-between your `if` and `else` statements if multiple conditionals need to be tested\n",
    "- Use `else` at the end of your statement if none of your conditionals are met"
   ]
  },
  {
   "cell_type": "code",
   "execution_count": 74,
   "metadata": {},
   "outputs": [
    {
     "name": "stdout",
     "output_type": "stream",
     "text": [
      "x does not equal hello\n"
     ]
    }
   ],
   "source": [
    "if x == \"hello\":\n",
    "    print(x)\n",
    "elif x == \"HELLO\":\n",
    "    print(x)\n",
    "else:\n",
    "    print(\"x does not equal hello\")"
   ]
  },
  {
   "cell_type": "markdown",
   "metadata": {},
   "source": [
    "### Loops\n",
    "\n",
    "[Loops Docs](https://docs.python.org/3/tutorial/controlflow.html#for-statements)\n",
    "\n",
    "The for statement in Python differs a bit from what you may be used to in C or Pascal. Rather than always iterating over an arithmetic progression of numbers (like in Pascal), or giving the user the ability to define both the iteration step and halting condition (as C), Python’s for statement iterates over the items of any sequence (a list or a string), in the order that they appear in the sequence. For example (no pun intended):"
   ]
  },
  {
   "cell_type": "code",
   "execution_count": 69,
   "metadata": {},
   "outputs": [
    {
     "name": "stdout",
     "output_type": "stream",
     "text": [
      "H\n",
      "e\n",
      "l\n",
      "l\n",
      "o\n"
     ]
    }
   ],
   "source": [
    "# Iterate over every letter in the string and print it\n",
    "for letter in x:\n",
    "    print(letter)"
   ]
  },
  {
   "cell_type": "markdown",
   "metadata": {},
   "source": [
    "### Data Types\n",
    "\n",
    "We can use the `type()` funtion to tell us what type a variable is\n",
    "\n",
    "Python has a variety of different types:\n",
    "\n",
    "- [Strings](https://docs.python.org/3/library/stdtypes.html#text-sequence-type-str): Anything between quotes\n",
    "- [Integer](https://docs.python.org/3/library/functions.html#int): A non decimal number\n",
    "- [Floats](https://docs.python.org/3/library/functions.html#float): A decimal number\n",
    "- [Lists](https://docs.python.org/3/library/stdtypes.html?highlight=lists#list): **Zero Indexed**. Lists are mutable sequences, typically used to store collections of homogeneous items (where the precise degree of similarity will vary by application).\n",
    "- [Dictionaries](https://docs.python.org/3/library/stdtypes.html#dict): `key:values` pairs\n",
    "- [Set](https://docs.python.org/3/library/stdtypes.html#set): Unordered collection of distinct objects\n",
    "- [Tuples](https://docs.python.org/3/library/stdtypes.html#tuple): Immutable sequences\n",
    "- [Booleans](https://docs.python.org/3/library/functions.html#bool): `True` or `False`"
   ]
  },
  {
   "cell_type": "code",
   "execution_count": 61,
   "metadata": {},
   "outputs": [
    {
     "data": {
      "text/plain": [
       "int"
      ]
     },
     "execution_count": 61,
     "metadata": {},
     "output_type": "execute_result"
    }
   ],
   "source": [
    "# Whats the type?\n",
    "type(0)"
   ]
  },
  {
   "cell_type": "code",
   "execution_count": 75,
   "metadata": {},
   "outputs": [
    {
     "name": "stdout",
     "output_type": "stream",
     "text": [
      "The variable a is of type  'str'\n",
      "The variable b is of type  'int'\n",
      "The variable c is of type  'float'\n",
      "The variable d is of type  'dict'\n",
      "The variable e is of type  'list'\n",
      "The variable f is of type  'set'\n",
      "The variable g is of type  'tuple'\n",
      "The variable h is of type  'bool'\n"
     ]
    }
   ],
   "source": [
    "# Create different data types\n",
    "a = \"Hello World\"\n",
    "b = 1\n",
    "c = 1.0\n",
    "e = list() # or use []\n",
    "d = dict() # or use {}\n",
    "f = set()\n",
    "g = tuple() # or use ()\n",
    "h = True\n",
    "\n",
    "# Create a dicitonary of key value pairs to hold labels and variables\n",
    "type_d = {\n",
    "    \"a\":a,\n",
    "    \"b\":b,\n",
    "    \"c\":c,\n",
    "    \"d\":d,\n",
    "    \"e\":e,\n",
    "    \"f\":f,\n",
    "    \"g\":g,\n",
    "    \"h\":h\n",
    "}\n",
    "\n",
    "# Iterate over the dictionary and print the label name and type of the variable\n",
    "for x, y in type_d.items():\n",
    "    \n",
    "    # Print a formatted string and slice into the string to extract only the needed parts\n",
    "    print(f\"The variable {x} is of type {str(type(y))[6:][:-1]}\")"
   ]
  },
  {
   "cell_type": "markdown",
   "metadata": {},
   "source": [
    "#### Lists"
   ]
  },
  {
   "cell_type": "code",
   "execution_count": 88,
   "metadata": {},
   "outputs": [],
   "source": [
    "# An empty list\n",
    "l = []"
   ]
  },
  {
   "cell_type": "code",
   "execution_count": 89,
   "metadata": {},
   "outputs": [
    {
     "data": {
      "text/plain": [
       "[3, 'Hello', [1, 2, 3]]"
      ]
     },
     "execution_count": 89,
     "metadata": {},
     "output_type": "execute_result"
    }
   ],
   "source": [
    "# Add some values to the list\n",
    "l.append(3)\n",
    "l.append(\"Hello\")\n",
    "l.append([1,2,3]) # Add a list in to your list\n",
    "\n",
    "l"
   ]
  },
  {
   "cell_type": "code",
   "execution_count": 107,
   "metadata": {},
   "outputs": [
    {
     "data": {
      "text/plain": [
       "3"
      ]
     },
     "execution_count": 107,
     "metadata": {},
     "output_type": "execute_result"
    }
   ],
   "source": [
    "# Length of l\n",
    "len(l)"
   ]
  },
  {
   "cell_type": "code",
   "execution_count": 109,
   "metadata": {},
   "outputs": [
    {
     "data": {
      "text/plain": [
       "3"
      ]
     },
     "execution_count": 109,
     "metadata": {},
     "output_type": "execute_result"
    }
   ],
   "source": [
    "# Grab the first element\n",
    "l[0]"
   ]
  },
  {
   "cell_type": "code",
   "execution_count": 111,
   "metadata": {},
   "outputs": [
    {
     "data": {
      "text/plain": [
       "[1, 2, 3]"
      ]
     },
     "execution_count": 111,
     "metadata": {},
     "output_type": "execute_result"
    }
   ],
   "source": [
    "#Grab last element\n",
    "l[2]"
   ]
  },
  {
   "cell_type": "code",
   "execution_count": 108,
   "metadata": {},
   "outputs": [
    {
     "name": "stdout",
     "output_type": "stream",
     "text": [
      "3\n",
      "Hello\n",
      "[1, 2, 3]\n"
     ]
    }
   ],
   "source": [
    "# loop over the list\n",
    "for element in range(len(l)):\n",
    "    print(l[element])"
   ]
  },
  {
   "cell_type": "code",
   "execution_count": 99,
   "metadata": {},
   "outputs": [
    {
     "data": {
      "text/plain": [
       "[15,\n",
       " 'HelloHelloHelloHelloHello',\n",
       " [1, 2, 3, 1, 2, 3, 1, 2, 3, 1, 2, 3, 1, 2, 3]]"
      ]
     },
     "execution_count": 99,
     "metadata": {},
     "output_type": "execute_result"
    }
   ],
   "source": [
    "# List comprehension\n",
    "\n",
    "[x*5 for x in l] # 3*15, hello*5, [1,2,3]*5"
   ]
  },
  {
   "cell_type": "markdown",
   "metadata": {},
   "source": [
    "#### Dictionaries"
   ]
  },
  {
   "cell_type": "code",
   "execution_count": 76,
   "metadata": {},
   "outputs": [],
   "source": [
    "# An empty dictionary\n",
    "d = {}"
   ]
  },
  {
   "cell_type": "code",
   "execution_count": 92,
   "metadata": {},
   "outputs": [
    {
     "data": {
      "text/plain": [
       "{'Hello': 'World',\n",
       " 'Orange': 'Juice',\n",
       " 123: [3, 'Hello', [1, 2, 3]],\n",
       " 'dict': {1: 2, 'hi': 'bye'}}"
      ]
     },
     "execution_count": 92,
     "metadata": {},
     "output_type": "execute_result"
    }
   ],
   "source": [
    "# Add some new key values to your dictionary\n",
    "\n",
    "d[\"Hello\"] = \"World\"\n",
    "d[\"Orange\"] = \"Juice\"\n",
    "d[123] = l # add out list from earlier to the dictionary\n",
    "d[\"dict\"] = {1:2, \"hi\":\"bye\"} # add a dictionary to our dictionary\n",
    "d"
   ]
  },
  {
   "cell_type": "code",
   "execution_count": 79,
   "metadata": {},
   "outputs": [
    {
     "data": {
      "text/plain": [
       "'Juice'"
      ]
     },
     "execution_count": 79,
     "metadata": {},
     "output_type": "execute_result"
    }
   ],
   "source": [
    "# Access an element in you dictionary\n",
    "d[\"Orange\"]"
   ]
  },
  {
   "cell_type": "code",
   "execution_count": 80,
   "metadata": {},
   "outputs": [
    {
     "data": {
      "text/plain": [
       "3"
      ]
     },
     "execution_count": 80,
     "metadata": {},
     "output_type": "execute_result"
    }
   ],
   "source": [
    "# Look at length of your dictionary\n",
    "len(d)"
   ]
  },
  {
   "cell_type": "code",
   "execution_count": 81,
   "metadata": {},
   "outputs": [
    {
     "data": {
      "text/plain": [
       "dict_keys(['Hello', 'Orange', 123])"
      ]
     },
     "execution_count": 81,
     "metadata": {},
     "output_type": "execute_result"
    }
   ],
   "source": [
    "# Look at only the keys\n",
    "d.keys()"
   ]
  },
  {
   "cell_type": "code",
   "execution_count": 82,
   "metadata": {},
   "outputs": [
    {
     "data": {
      "text/plain": [
       "dict_values(['World', 'Juice', 456])"
      ]
     },
     "execution_count": 82,
     "metadata": {},
     "output_type": "execute_result"
    }
   ],
   "source": [
    "# Look at values only\n",
    "d.values()"
   ]
  },
  {
   "cell_type": "code",
   "execution_count": 84,
   "metadata": {},
   "outputs": [
    {
     "data": {
      "text/plain": [
       "dict_items([('Hello', 'World'), ('Orange', 'Juice'), (123, 456)])"
      ]
     },
     "execution_count": 84,
     "metadata": {},
     "output_type": "execute_result"
    }
   ],
   "source": [
    "#Pull out all key value pairs into a list of tuples\n",
    "d.items()"
   ]
  },
  {
   "cell_type": "code",
   "execution_count": 95,
   "metadata": {},
   "outputs": [
    {
     "name": "stdout",
     "output_type": "stream",
     "text": [
      "This is the key: Hello, This is the value: World\n",
      "This is the key: Orange, This is the value: Juice\n",
      "This is the key: 123, This is the value: [3, 'Hello', [1, 2, 3]]\n",
      "This is the key: dict, This is the value: {1: 2, 'hi': 'bye'}\n"
     ]
    }
   ],
   "source": [
    "# Loop over dictionary\n",
    "for key, value in d.items():\n",
    "    print(f\"This is the key: {key}, This is the value: {value}\")"
   ]
  },
  {
   "cell_type": "code",
   "execution_count": 106,
   "metadata": {},
   "outputs": [
    {
     "data": {
      "text/plain": [
       "{'0_key': '0.0_value',\n",
       " '1_key': '1.0_value',\n",
       " '2_key': '2.0_value',\n",
       " '3_key': '3.0_value',\n",
       " '4_key': '4.0_value',\n",
       " '5_key': '5.0_value',\n",
       " '6_key': '6.0_value',\n",
       " '7_key': '7.0_value',\n",
       " '8_key': '8.0_value',\n",
       " '9_key': '9.0_value'}"
      ]
     },
     "execution_count": 106,
     "metadata": {},
     "output_type": "execute_result"
    }
   ],
   "source": [
    "# Dictionary Comprehension\n",
    "{f\"{x}_key\":f\"{x+0.0}_value\" for x in range(10)}"
   ]
  },
  {
   "cell_type": "code",
   "execution_count": null,
   "metadata": {},
   "outputs": [],
   "source": []
  }
 ],
 "metadata": {
  "kernelspec": {
   "display_name": "Python 3",
   "language": "python",
   "name": "python3"
  },
  "language_info": {
   "codemirror_mode": {
    "name": "ipython",
    "version": 3
   },
   "file_extension": ".py",
   "mimetype": "text/x-python",
   "name": "python",
   "nbconvert_exporter": "python",
   "pygments_lexer": "ipython3",
   "version": "3.7.4"
  }
 },
 "nbformat": 4,
 "nbformat_minor": 4
}
