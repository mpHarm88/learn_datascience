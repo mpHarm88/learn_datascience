{
 "cells": [
  {
   "cell_type": "markdown",
   "metadata": {
    "colab_type": "text",
    "id": "view-in-github"
   },
   "source": [
    "<a href=\"https://colab.research.google.com/github/gumdropsteve/intro_to_python/blob/main/day_02/intro_to_python.ipynb\" target=\"_parent\"><img src=\"https://colab.research.google.com/assets/colab-badge.svg\" alt=\"Open In Colab\"/></a>"
   ]
  },
  {
   "cell_type": "markdown",
   "metadata": {
    "id": "scxw573ueqHT"
   },
   "source": [
    ".\r\n",
    "\r\n",
    "## Variables "
   ]
  },
  {
   "cell_type": "code",
   "execution_count": 30,
   "metadata": {
    "colab": {
     "base_uri": "https://localhost:8080/",
     "height": 35
    },
    "id": "AHJDWWYMe_8G",
    "outputId": "05e9012d-4569-44c2-a6bb-824c03b69f68"
   },
   "outputs": [
    {
     "data": {
      "application/vnd.google.colaboratory.intrinsic+json": {
       "type": "string"
      },
      "text/plain": [
       "'this is a string'"
      ]
     },
     "execution_count": 30,
     "metadata": {
      "tags": []
     },
     "output_type": "execute_result"
    }
   ],
   "source": [
    "a = 'this is a string'\r\n",
    "\r\n",
    "a"
   ]
  },
  {
   "cell_type": "code",
   "execution_count": 31,
   "metadata": {
    "colab": {
     "base_uri": "https://localhost:8080/"
    },
    "id": "AZ8CF1TJie_E",
    "outputId": "ec54c234-b7f0-4af4-fc6f-84bb180ad199"
   },
   "outputs": [
    {
     "name": "stdout",
     "output_type": "stream",
     "text": [
      "this is a string\n"
     ]
    }
   ],
   "source": [
    "# you can print strings to avoid the ''s\r\n",
    "print(a)"
   ]
  },
  {
   "cell_type": "code",
   "execution_count": 34,
   "metadata": {
    "colab": {
     "base_uri": "https://localhost:8080/"
    },
    "id": "ESdIoa9sic8l",
    "outputId": "8d5eaaba-8a4a-42ac-b87d-9ce439a258c0"
   },
   "outputs": [
    {
     "data": {
      "text/plain": [
       "4"
      ]
     },
     "execution_count": 34,
     "metadata": {
      "tags": []
     },
     "output_type": "execute_result"
    }
   ],
   "source": [
    "# you can overwrite variables\r\n",
    "a = 4\r\n",
    "\r\n",
    "a"
   ]
  },
  {
   "cell_type": "code",
   "execution_count": 35,
   "metadata": {
    "colab": {
     "base_uri": "https://localhost:8080/"
    },
    "id": "NdnbPDiKirVE",
    "outputId": "f023bd32-3a83-43ec-e015-26c2e4fb0079"
   },
   "outputs": [
    {
     "name": "stdout",
     "output_type": "stream",
     "text": [
      "4\n"
     ]
    }
   ],
   "source": [
    "print(a)"
   ]
  },
  {
   "cell_type": "code",
   "execution_count": 36,
   "metadata": {
    "colab": {
     "base_uri": "https://localhost:8080/",
     "height": 35
    },
    "id": "CjwfgCLugyAV",
    "outputId": "c943c223-87c7-4278-f3c2-b7c33cbc5c2b"
   },
   "outputs": [
    {
     "data": {
      "application/vnd.google.colaboratory.intrinsic+json": {
       "type": "string"
      },
      "text/plain": [
       "'this is also a string'"
      ]
     },
     "execution_count": 36,
     "metadata": {
      "tags": []
     },
     "output_type": "execute_result"
    }
   ],
   "source": [
    "b = \"this is also a string\"\r\n",
    "\r\n",
    "b"
   ]
  },
  {
   "cell_type": "code",
   "execution_count": 39,
   "metadata": {
    "colab": {
     "base_uri": "https://localhost:8080/",
     "height": 35
    },
    "id": "1ew6qiech1VI",
    "outputId": "2e4e39fd-7d67-4c3d-c0aa-13401cae2fec"
   },
   "outputs": [
    {
     "data": {
      "application/vnd.google.colaboratory.intrinsic+json": {
       "type": "string"
      },
      "text/plain": [
       "'4this is also a string'"
      ]
     },
     "execution_count": 39,
     "metadata": {
      "tags": []
     },
     "output_type": "execute_result"
    }
   ],
   "source": [
    "a = str(a)\r\n",
    "\r\n",
    "a + b"
   ]
  },
  {
   "cell_type": "code",
   "execution_count": 40,
   "metadata": {
    "colab": {
     "base_uri": "https://localhost:8080/",
     "height": 35
    },
    "id": "lYv9Cm8ah9Ck",
    "outputId": "ae6758ce-db2b-4b26-e8ef-b199f97f7de4"
   },
   "outputs": [
    {
     "data": {
      "application/vnd.google.colaboratory.intrinsic+json": {
       "type": "string"
      },
      "text/plain": [
       "'4 this is also a string'"
      ]
     },
     "execution_count": 40,
     "metadata": {
      "tags": []
     },
     "output_type": "execute_result"
    }
   ],
   "source": [
    "a + ' ' + b"
   ]
  },
  {
   "cell_type": "markdown",
   "metadata": {
    "id": "7fg9b_uafBY5"
   },
   "source": [
    "## Strings"
   ]
  },
  {
   "cell_type": "code",
   "execution_count": 41,
   "metadata": {
    "colab": {
     "base_uri": "https://localhost:8080/",
     "height": 35
    },
    "id": "l50CGXaqYnht",
    "outputId": "8f12737d-dd00-4288-c8d8-4bc500337683"
   },
   "outputs": [
    {
     "data": {
      "application/vnd.google.colaboratory.intrinsic+json": {
       "type": "string"
      },
      "text/plain": [
       "'this is a string'"
      ]
     },
     "execution_count": 41,
     "metadata": {
      "tags": []
     },
     "output_type": "execute_result"
    }
   ],
   "source": [
    "'this is a string'"
   ]
  },
  {
   "cell_type": "code",
   "execution_count": 42,
   "metadata": {
    "colab": {
     "base_uri": "https://localhost:8080/",
     "height": 35
    },
    "id": "ejXyJ09BjGE6",
    "outputId": "b2b3e644-00c0-4874-ed86-375eb2b8bdda"
   },
   "outputs": [
    {
     "data": {
      "application/vnd.google.colaboratory.intrinsic+json": {
       "type": "string"
      },
      "text/plain": [
       "'this is also a string'"
      ]
     },
     "execution_count": 42,
     "metadata": {
      "tags": []
     },
     "output_type": "execute_result"
    }
   ],
   "source": [
    "\"this is also a string\""
   ]
  },
  {
   "cell_type": "code",
   "execution_count": 43,
   "metadata": {
    "colab": {
     "base_uri": "https://localhost:8080/"
    },
    "id": "qF27lPo5jHxI",
    "outputId": "a4e43e51-b261-4ab1-c11d-c805345ca981"
   },
   "outputs": [
    {
     "name": "stdout",
     "output_type": "stream",
     "text": [
      "this is a string\n"
     ]
    }
   ],
   "source": [
    "print('this is a string')"
   ]
  },
  {
   "cell_type": "code",
   "execution_count": 44,
   "metadata": {
    "colab": {
     "base_uri": "https://localhost:8080/"
    },
    "id": "jSiIV1hcjKTO",
    "outputId": "5f2a6fe7-577e-4be5-ae31-f872c11cb989"
   },
   "outputs": [
    {
     "name": "stdout",
     "output_type": "stream",
     "text": [
      "this is also a string\n"
     ]
    }
   ],
   "source": [
    "print(\"this is also a string\")"
   ]
  },
  {
   "cell_type": "code",
   "execution_count": 106,
   "metadata": {
    "colab": {
     "base_uri": "https://localhost:8080/"
    },
    "id": "HbHKLcPAqP5Q",
    "outputId": "ae7edf87-621b-47e2-e073-c1721e9d7cf7"
   },
   "outputs": [
    {
     "data": {
      "text/plain": [
       "str"
      ]
     },
     "execution_count": 106,
     "metadata": {
      "tags": []
     },
     "output_type": "execute_result"
    }
   ],
   "source": [
    "# check the datatype with type\r\n",
    "type('this is a string')"
   ]
  },
  {
   "cell_type": "code",
   "execution_count": 107,
   "metadata": {
    "colab": {
     "base_uri": "https://localhost:8080/"
    },
    "id": "_rzcd2hFqWqH",
    "outputId": "5581ec5f-bdf3-487e-da68-8e620519a561"
   },
   "outputs": [
    {
     "data": {
      "text/plain": [
       "int"
      ]
     },
     "execution_count": 107,
     "metadata": {
      "tags": []
     },
     "output_type": "execute_result"
    }
   ],
   "source": [
    "type(2)"
   ]
  },
  {
   "cell_type": "markdown",
   "metadata": {
    "id": "qIrstM4EjRWu"
   },
   "source": [
    "#### Formatting Strings\r\n",
    "There are different ways to format a string."
   ]
  },
  {
   "cell_type": "code",
   "execution_count": 51,
   "metadata": {
    "colab": {
     "base_uri": "https://localhost:8080/",
     "height": 35
    },
    "id": "FFPFsnGIkShe",
    "outputId": "0c4ce357-95b3-447f-ca30-a3cacb7110bf"
   },
   "outputs": [
    {
     "data": {
      "application/vnd.google.colaboratory.intrinsic+json": {
       "type": "string"
      },
      "text/plain": [
       "'0.03'"
      ]
     },
     "execution_count": 51,
     "metadata": {
      "tags": []
     },
     "output_type": "execute_result"
    }
   ],
   "source": [
    "variable = .0333333\r\n",
    "\r\n",
    "f'{round(variable, 2)}'"
   ]
  },
  {
   "cell_type": "code",
   "execution_count": 52,
   "metadata": {
    "colab": {
     "base_uri": "https://localhost:8080/",
     "height": 35
    },
    "id": "XQOtnZUok79c",
    "outputId": "1f7507e6-1ad7-46f4-cb9d-e89d4cfb9295"
   },
   "outputs": [
    {
     "data": {
      "application/vnd.google.colaboratory.intrinsic+json": {
       "type": "string"
      },
      "text/plain": [
       "'0.03'"
      ]
     },
     "execution_count": 52,
     "metadata": {
      "tags": []
     },
     "output_type": "execute_result"
    }
   ],
   "source": [
    "variable = .0333333\r\n",
    "\r\n",
    "f'{variable:.2f}'"
   ]
  },
  {
   "cell_type": "code",
   "execution_count": 54,
   "metadata": {
    "colab": {
     "base_uri": "https://localhost:8080/",
     "height": 35
    },
    "id": "zJXZ3fVlj2OH",
    "outputId": "6de9313f-3af1-4f08-f45f-bd7a9b16bf4c"
   },
   "outputs": [
    {
     "data": {
      "application/vnd.google.colaboratory.intrinsic+json": {
       "type": "string"
      },
      "text/plain": [
       "'0.03'"
      ]
     },
     "execution_count": 54,
     "metadata": {
      "tags": []
     },
     "output_type": "execute_result"
    }
   ],
   "source": [
    "variable = .0333333\r\n",
    "\r\n",
    "'{:.2f}'.format(variable)"
   ]
  },
  {
   "cell_type": "code",
   "execution_count": 55,
   "metadata": {
    "colab": {
     "base_uri": "https://localhost:8080/",
     "height": 35
    },
    "id": "vfw-ElSRljdp",
    "outputId": "b22b9121-1c75-4bf3-fd1a-840113968a79"
   },
   "outputs": [
    {
     "data": {
      "application/vnd.google.colaboratory.intrinsic+json": {
       "type": "string"
      },
      "text/plain": [
       "'3.33%'"
      ]
     },
     "execution_count": 55,
     "metadata": {
      "tags": []
     },
     "output_type": "execute_result"
    }
   ],
   "source": [
    "variable = .0333333\r\n",
    "\r\n",
    "f'{variable:.2%}'"
   ]
  },
  {
   "cell_type": "code",
   "execution_count": 56,
   "metadata": {
    "colab": {
     "base_uri": "https://localhost:8080/",
     "height": 35
    },
    "id": "FuQ9QCQglsls",
    "outputId": "93d061fd-c575-4669-f32e-f6fa6152098c"
   },
   "outputs": [
    {
     "data": {
      "application/vnd.google.colaboratory.intrinsic+json": {
       "type": "string"
      },
      "text/plain": [
       "'3.33%'"
      ]
     },
     "execution_count": 56,
     "metadata": {
      "tags": []
     },
     "output_type": "execute_result"
    }
   ],
   "source": [
    "variable = .0333333\r\n",
    "\r\n",
    "'{:.2%}'.format(variable)"
   ]
  },
  {
   "cell_type": "markdown",
   "metadata": {
    "id": "WzkRQYsNl6FL"
   },
   "source": [
    "You can input multiple variables into formatted strings."
   ]
  },
  {
   "cell_type": "code",
   "execution_count": 58,
   "metadata": {
    "colab": {
     "base_uri": "https://localhost:8080/",
     "height": 35
    },
    "id": "GuILIh8SjM53",
    "outputId": "727313a4-0eb8-4f32-9a2c-e5fc245127cb"
   },
   "outputs": [
    {
     "data": {
      "application/vnd.google.colaboratory.intrinsic+json": {
       "type": "string"
      },
      "text/plain": [
       "'Hi Winston, today is Monday'"
      ]
     },
     "execution_count": 58,
     "metadata": {
      "tags": []
     },
     "output_type": "execute_result"
    }
   ],
   "source": [
    "name = 'Winston'\r\n",
    "\r\n",
    "day = 'Monday'\r\n",
    "\r\n",
    "f'Hi {name}, today is {day}'"
   ]
  },
  {
   "cell_type": "code",
   "execution_count": 59,
   "metadata": {
    "colab": {
     "base_uri": "https://localhost:8080/"
    },
    "id": "gxUNQ9ixkPRu",
    "outputId": "fa0dbfd7-a7e0-4a7d-dc30-a91fe132f7a2"
   },
   "outputs": [
    {
     "name": "stdout",
     "output_type": "stream",
     "text": [
      "Hi Winston, today is Monday\n"
     ]
    }
   ],
   "source": [
    "print(f'Hi {name}, today is {day}')"
   ]
  },
  {
   "cell_type": "code",
   "execution_count": 65,
   "metadata": {
    "colab": {
     "base_uri": "https://localhost:8080/",
     "height": 35
    },
    "id": "rVoIjwnMmCjI",
    "outputId": "5d42173e-84c8-4a77-d7d9-42f53e65c902"
   },
   "outputs": [
    {
     "data": {
      "application/vnd.google.colaboratory.intrinsic+json": {
       "type": "string"
      },
      "text/plain": [
       "'test\\n\\n3'"
      ]
     },
     "execution_count": 65,
     "metadata": {
      "tags": []
     },
     "output_type": "execute_result"
    }
   ],
   "source": [
    "x = 'test\\n3'\r\n",
    "x"
   ]
  },
  {
   "cell_type": "code",
   "execution_count": 66,
   "metadata": {
    "colab": {
     "base_uri": "https://localhost:8080/"
    },
    "id": "tVZ_O8hBmF6v",
    "outputId": "eddc4299-dfad-441b-a7de-aff1bbaa3509"
   },
   "outputs": [
    {
     "name": "stdout",
     "output_type": "stream",
     "text": [
      "test\n",
      "\n",
      "3\n"
     ]
    }
   ],
   "source": [
    "print(x)"
   ]
  },
  {
   "cell_type": "code",
   "execution_count": 70,
   "metadata": {
    "colab": {
     "base_uri": "https://localhost:8080/"
    },
    "id": "jrXNQIqomOZF",
    "outputId": "aeb44aac-a374-4d5b-a0cb-ab9c261d6621"
   },
   "outputs": [
    {
     "name": "stdout",
     "output_type": "stream",
     "text": [
      "Hi Winston, today is Monday\n"
     ]
    }
   ],
   "source": [
    "name = 'Winston'\r\n",
    "\r\n",
    "day = 'Monday'\r\n",
    "\r\n",
    "print(f\"Hi {name}, today is {day}\")"
   ]
  },
  {
   "cell_type": "code",
   "execution_count": 74,
   "metadata": {
    "colab": {
     "base_uri": "https://localhost:8080/",
     "height": 35
    },
    "id": "7MqAwOmimdAw",
    "outputId": "9a985832-90ca-44d3-a15d-04089cb5823e"
   },
   "outputs": [
    {
     "data": {
      "application/vnd.google.colaboratory.intrinsic+json": {
       "type": "string"
      },
      "text/plain": [
       "'Hi Winston, today is True, 2.12'"
      ]
     },
     "execution_count": 74,
     "metadata": {
      "tags": []
     },
     "output_type": "execute_result"
    }
   ],
   "source": [
    "name = 'Winston'\r\n",
    "\r\n",
    "# can I use expressions in formatted strings?\r\n",
    "f'Hi {name}, today is {3 > 2}, {round(2.1232, 2)}'"
   ]
  },
  {
   "cell_type": "code",
   "execution_count": 77,
   "metadata": {
    "colab": {
     "base_uri": "https://localhost:8080/",
     "height": 35
    },
    "id": "mIiX-YRtmsZ3",
    "outputId": "fc0a1810-7fdc-4b73-d235-124f11fdca3b"
   },
   "outputs": [
    {
     "data": {
      "application/vnd.google.colaboratory.intrinsic+json": {
       "type": "string"
      },
      "text/plain": [
       "'Hi Winston, today is True, 2.12'"
      ]
     },
     "execution_count": 77,
     "metadata": {
      "tags": []
     },
     "output_type": "execute_result"
    }
   ],
   "source": [
    "\"Hi {}, today is {}, {}\".format(name, 3 > 2, round(2.1232, 2))"
   ]
  },
  {
   "cell_type": "code",
   "execution_count": 79,
   "metadata": {
    "colab": {
     "base_uri": "https://localhost:8080/",
     "height": 35
    },
    "id": "HdRr4weynYat",
    "outputId": "4683bb2e-2cc9-4595-c62d-6e90fd49bdbf"
   },
   "outputs": [
    {
     "data": {
      "application/vnd.google.colaboratory.intrinsic+json": {
       "type": "string"
      },
      "text/plain": [
       "'Hi Winston, today is Monday.'"
      ]
     },
     "execution_count": 79,
     "metadata": {
      "tags": []
     },
     "output_type": "execute_result"
    }
   ],
   "source": [
    "'Hi ' + name + ', today is ' + day + '.'"
   ]
  },
  {
   "cell_type": "code",
   "execution_count": 81,
   "metadata": {
    "colab": {
     "base_uri": "https://localhost:8080/",
     "height": 35
    },
    "id": "JXgSnV6Ynil_",
    "outputId": "73f87670-dd58-4906-c178-26a45f8a9695"
   },
   "outputs": [
    {
     "data": {
      "application/vnd.google.colaboratory.intrinsic+json": {
       "type": "string"
      },
      "text/plain": [
       "'Hi Winston, today is Monday.'"
      ]
     },
     "execution_count": 81,
     "metadata": {
      "tags": []
     },
     "output_type": "execute_result"
    }
   ],
   "source": [
    "'Hi ' + name + \", today is \" + f'{day}.'"
   ]
  },
  {
   "cell_type": "markdown",
   "metadata": {
    "id": "0lWpmP8Jooq-"
   },
   "source": [
    "#### String Functions\r\n",
    "Built in string functions."
   ]
  },
  {
   "cell_type": "code",
   "execution_count": 88,
   "metadata": {
    "colab": {
     "base_uri": "https://localhost:8080/"
    },
    "id": "HcZSvDX3n3zw",
    "outputId": "20ad33e1-0df4-44af-86c7-ee12d9bdd06c"
   },
   "outputs": [
    {
     "name": "stdout",
     "output_type": "stream",
     "text": [
      "hi winston, today is monday.\n",
      "HI WINSTON, TODAY IS MONDAY.\n",
      "Hi Winston, Today Is Monday.\n"
     ]
    }
   ],
   "source": [
    "hello = 'Hi ' + name + \", today is \" + f'{day}.'\r\n",
    "\r\n",
    "# lowercase everything \r\n",
    "print(hello.lower())\r\n",
    "\r\n",
    "# caps lock\r\n",
    "print(hello.upper())\r\n",
    "\r\n",
    "# make it a title (capitolize every word)\r\n",
    "print(hello.title())"
   ]
  },
  {
   "cell_type": "code",
   "execution_count": 121,
   "metadata": {
    "colab": {
     "base_uri": "https://localhost:8080/"
    },
    "id": "Rtim_iywsSHh",
    "outputId": "ae508102-793b-4e65-f3cd-836b77c484ed"
   },
   "outputs": [
    {
     "name": "stdout",
     "output_type": "stream",
     "text": [
      "   warobson@gmail.com      \n",
      "warobson@gmail.com\n"
     ]
    }
   ],
   "source": [
    "# use strip to remove spaces on the sides\r\n",
    "valid_email = '   warobson@gmail.com      '\r\n",
    "\r\n",
    "print(valid_email)\r\n",
    "\r\n",
    "print(valid_email.strip())"
   ]
  },
  {
   "cell_type": "code",
   "execution_count": 89,
   "metadata": {
    "colab": {
     "base_uri": "https://localhost:8080/"
    },
    "id": "R33s8q4joHyq",
    "outputId": "999ea2bd-2ec8-4752-de60-3e2c4908ad8a"
   },
   "outputs": [
    {
     "data": {
      "text/plain": [
       "['Hi', 'Winston,', 'today', 'is', 'Monday.']"
      ]
     },
     "execution_count": 89,
     "metadata": {
      "tags": []
     },
     "output_type": "execute_result"
    }
   ],
   "source": [
    "hello = 'Hi ' + name + \", today is \" + f'{day}.'\r\n",
    "\r\n",
    "# split the string into a list of strings (by ' ' on default)\r\n",
    "hello.split()"
   ]
  },
  {
   "cell_type": "code",
   "execution_count": 96,
   "metadata": {
    "colab": {
     "base_uri": "https://localhost:8080/"
    },
    "id": "_3K3xriLoyV2",
    "outputId": "50142271-e137-4a96-d07f-f769050f11ec"
   },
   "outputs": [
    {
     "name": "stdout",
     "output_type": "stream",
     "text": [
      "Hi Winston, today is Monday.\n"
     ]
    },
    {
     "data": {
      "text/plain": [
       "['Hi Winston', ' today is Monday.']"
      ]
     },
     "execution_count": 96,
     "metadata": {
      "tags": []
     },
     "output_type": "execute_result"
    }
   ],
   "source": [
    "print(hello)\r\n",
    "\r\n",
    "hello.split(',')"
   ]
  },
  {
   "cell_type": "code",
   "execution_count": 98,
   "metadata": {
    "colab": {
     "base_uri": "https://localhost:8080/"
    },
    "id": "d-bUnsvNo5eA",
    "outputId": "211b8105-d604-4cdc-bcd7-9878c376abfd"
   },
   "outputs": [
    {
     "name": "stdout",
     "output_type": "stream",
     "text": [
      "Hi Winston, today is Monday.\n"
     ]
    },
    {
     "data": {
      "text/plain": [
       "['Hi ', ', today is Monday.']"
      ]
     },
     "execution_count": 98,
     "metadata": {
      "tags": []
     },
     "output_type": "execute_result"
    }
   ],
   "source": [
    "print(hello)\r\n",
    "\r\n",
    "hello_list = hello.split('Winston')\r\n",
    "\r\n",
    "hello_list"
   ]
  },
  {
   "cell_type": "code",
   "execution_count": 99,
   "metadata": {
    "colab": {
     "base_uri": "https://localhost:8080/",
     "height": 35
    },
    "id": "DRYqslUopNIT",
    "outputId": "a017b1cb-f968-4d6d-8006-297acc4ca267"
   },
   "outputs": [
    {
     "data": {
      "application/vnd.google.colaboratory.intrinsic+json": {
       "type": "string"
      },
      "text/plain": [
       "'Hi Winston, today is Monday.'"
      ]
     },
     "execution_count": 99,
     "metadata": {
      "tags": []
     },
     "output_type": "execute_result"
    }
   ],
   "source": [
    "'Winston'.join(hello_list)"
   ]
  },
  {
   "cell_type": "code",
   "execution_count": 100,
   "metadata": {
    "colab": {
     "base_uri": "https://localhost:8080/"
    },
    "id": "PglZBOz5pZ3n",
    "outputId": "ca9ab75a-cdbd-47dd-fff6-1815fe013b6f"
   },
   "outputs": [
    {
     "name": "stdout",
     "output_type": "stream",
     "text": [
      "Hi Winston, today is Monday.\n",
      "['Hi Winston', ' today is Monday.']\n",
      "Hi Winston, today is Monday.\n"
     ]
    }
   ],
   "source": [
    "print(hello)\r\n",
    "\r\n",
    "print(hello.split(','))\r\n",
    "\r\n",
    "print(','.join(hello.split(',')))"
   ]
  },
  {
   "cell_type": "code",
   "execution_count": 111,
   "metadata": {
    "colab": {
     "base_uri": "https://localhost:8080/"
    },
    "id": "sOoBuiqLqBUb",
    "outputId": "58f4188e-c3aa-4189-e02f-a5127b6ecdde"
   },
   "outputs": [
    {
     "name": "stdout",
     "output_type": "stream",
     "text": [
      "2021-01-04 09:11:44.128378\n"
     ]
    },
    {
     "data": {
      "text/plain": [
       "['2021-01-04', '09:11:44.128378']"
      ]
     },
     "execution_count": 111,
     "metadata": {
      "tags": []
     },
     "output_type": "execute_result"
    }
   ],
   "source": [
    "from datetime import datetime\r\n",
    "\r\n",
    "now = datetime.now()\r\n",
    "\r\n",
    "now = str(now)\r\n",
    "\r\n",
    "print(now)\r\n",
    "\r\n",
    "# split the now datetime string into a list of strings where there are ' '\r\n",
    "now.split()"
   ]
  },
  {
   "cell_type": "code",
   "execution_count": 112,
   "metadata": {
    "colab": {
     "base_uri": "https://localhost:8080/",
     "height": 35
    },
    "id": "GevDaVyzq1gK",
    "outputId": "99772c01-f8c3-470f-ecb8-135570a00945"
   },
   "outputs": [
    {
     "data": {
      "application/vnd.google.colaboratory.intrinsic+json": {
       "type": "string"
      },
      "text/plain": [
       "'2021-01-04'"
      ]
     },
     "execution_count": 112,
     "metadata": {
      "tags": []
     },
     "output_type": "execute_result"
    }
   ],
   "source": [
    "date = now.split()[0]\r\n",
    "date"
   ]
  },
  {
   "cell_type": "code",
   "execution_count": 113,
   "metadata": {
    "colab": {
     "base_uri": "https://localhost:8080/"
    },
    "id": "GGTZQQE3q9M4",
    "outputId": "5eadb9d5-a573-41b6-bb24-43c6d2754c16"
   },
   "outputs": [
    {
     "data": {
      "text/plain": [
       "['your', 'string', 'here']"
      ]
     },
     "execution_count": 113,
     "metadata": {
      "tags": []
     },
     "output_type": "execute_result"
    }
   ],
   "source": [
    "'your string here'.split()"
   ]
  },
  {
   "cell_type": "code",
   "execution_count": 114,
   "metadata": {
    "colab": {
     "base_uri": "https://localhost:8080/"
    },
    "id": "4utc2VAHrIB4",
    "outputId": "0f907bc4-4274-4a98-abca-55b348584cfe"
   },
   "outputs": [
    {
     "name": "stdout",
     "output_type": "stream",
     "text": [
      "2021-01-04 09:14:41.839819\n",
      "['2021-01-04', '09:14:41.839819']\n",
      "2021-01-04 09:14:41.839819\n"
     ]
    }
   ],
   "source": [
    "from datetime import datetime\r\n",
    "\r\n",
    "now = datetime.now()\r\n",
    "\r\n",
    "now = str(now)\r\n",
    "\r\n",
    "print(now)\r\n",
    "\r\n",
    "print(now.split())\r\n",
    "\r\n",
    "print(' '.join(now.split()))"
   ]
  },
  {
   "cell_type": "code",
   "execution_count": 124,
   "metadata": {
    "colab": {
     "base_uri": "https://localhost:8080/"
    },
    "id": "VZzYB9sks8iq",
    "outputId": "4d2ae042-4a08-43ce-ff34-60c28cbc1d5d"
   },
   "outputs": [
    {
     "name": "stdout",
     "output_type": "stream",
     "text": [
      "['2021', '01', '04 09:14:41.839819']\n",
      "01\n"
     ]
    }
   ],
   "source": [
    "# how do I split on the month? (really, use a package)\r\n",
    "print(now.split('-'))\r\n",
    "\r\n",
    "print(now.split('-')[1])"
   ]
  },
  {
   "cell_type": "code",
   "execution_count": 115,
   "metadata": {
    "colab": {
     "base_uri": "https://localhost:8080/",
     "height": 35
    },
    "id": "spUSPmRBrefz",
    "outputId": "f4d122e1-2545-4ff4-8348-0050dd0ea626"
   },
   "outputs": [
    {
     "data": {
      "application/vnd.google.colaboratory.intrinsic+json": {
       "type": "string"
      },
      "text/plain": [
       "'something on the leftwhatever I put heresomething on the right'"
      ]
     },
     "execution_count": 115,
     "metadata": {
      "tags": []
     },
     "output_type": "execute_result"
    }
   ],
   "source": [
    "'whatever I put here'.join(['something on the left', 'something on the right'])"
   ]
  },
  {
   "cell_type": "code",
   "execution_count": 116,
   "metadata": {
    "colab": {
     "base_uri": "https://localhost:8080/",
     "height": 35
    },
    "id": "AiZ_F7OarpU6",
    "outputId": "0799db53-0597-4e06-d9b0-c1e07d39fd10"
   },
   "outputs": [
    {
     "data": {
      "application/vnd.google.colaboratory.intrinsic+json": {
       "type": "string"
      },
      "text/plain": [
       "'something on the left whatever I put here something on the right'"
      ]
     },
     "execution_count": 116,
     "metadata": {
      "tags": []
     },
     "output_type": "execute_result"
    }
   ],
   "source": [
    "' whatever I put here '.join(['something on the left', 'something on the right'])"
   ]
  },
  {
   "cell_type": "code",
   "execution_count": 118,
   "metadata": {
    "colab": {
     "base_uri": "https://localhost:8080/",
     "height": 35
    },
    "id": "KsZRcJv7rvM-",
    "outputId": "3f497756-9390-48ee-a36a-9c7a0558ccb1"
   },
   "outputs": [
    {
     "data": {
      "application/vnd.google.colaboratory.intrinsic+json": {
       "type": "string"
      },
      "text/plain": [
       "'Hello Winston today is Monday'"
      ]
     },
     "execution_count": 118,
     "metadata": {
      "tags": []
     },
     "output_type": "execute_result"
    }
   ],
   "source": [
    "name = 'Winston'\r\n",
    "\r\n",
    "day = 'Monday'\r\n",
    "\r\n",
    "l = ['Hello', name, 'today is', day]\r\n",
    "\r\n",
    "' '.join(l)"
   ]
  },
  {
   "cell_type": "markdown",
   "metadata": {
    "id": "hk3Q1eMFpwzm"
   },
   "source": [
    "Bool string checks."
   ]
  },
  {
   "cell_type": "code",
   "execution_count": 101,
   "metadata": {
    "colab": {
     "base_uri": "https://localhost:8080/"
    },
    "id": "isTxLbLmpm4q",
    "outputId": "7e02283b-3ad7-4508-e896-26288aeb0c75"
   },
   "outputs": [
    {
     "data": {
      "text/plain": [
       "False"
      ]
     },
     "execution_count": 101,
     "metadata": {
      "tags": []
     },
     "output_type": "execute_result"
    }
   ],
   "source": [
    "hello.isupper()"
   ]
  },
  {
   "cell_type": "code",
   "execution_count": 102,
   "metadata": {
    "colab": {
     "base_uri": "https://localhost:8080/"
    },
    "id": "Pu4Jjjlwpukx",
    "outputId": "a5df0ba1-12ce-4049-b67e-05019ca5d0a2"
   },
   "outputs": [
    {
     "data": {
      "text/plain": [
       "True"
      ]
     },
     "execution_count": 102,
     "metadata": {
      "tags": []
     },
     "output_type": "execute_result"
    }
   ],
   "source": [
    "'hello'.islower()"
   ]
  },
  {
   "cell_type": "code",
   "execution_count": 103,
   "metadata": {
    "colab": {
     "base_uri": "https://localhost:8080/"
    },
    "id": "ZbxUDcoEp03n",
    "outputId": "55ba2e7d-6708-4051-cfb6-c1e0de362e1b"
   },
   "outputs": [
    {
     "data": {
      "text/plain": [
       "True"
      ]
     },
     "execution_count": 103,
     "metadata": {
      "tags": []
     },
     "output_type": "execute_result"
    }
   ],
   "source": [
    "'H'.isupper()"
   ]
  },
  {
   "cell_type": "markdown",
   "metadata": {
    "id": "JWH0dtxAtaEp"
   },
   "source": [
    "### Conditionals\r\n",
    "- if, else, elif"
   ]
  },
  {
   "cell_type": "code",
   "execution_count": 125,
   "metadata": {
    "colab": {
     "base_uri": "https://localhost:8080/"
    },
    "id": "sE3ym_imp2sq",
    "outputId": "6dda1efb-30aa-4ad5-abff-9cefccb21d58"
   },
   "outputs": [
    {
     "name": "stdout",
     "output_type": "stream",
     "text": [
      "a is greater than 0\n"
     ]
    }
   ],
   "source": [
    "a = 2\r\n",
    "\r\n",
    "if a > 0:\r\n",
    "    print('a is greater than 0')\r\n",
    "else:\r\n",
    "    print('a is less than or equal to 0')"
   ]
  },
  {
   "cell_type": "code",
   "execution_count": 126,
   "metadata": {
    "colab": {
     "base_uri": "https://localhost:8080/"
    },
    "id": "RKsNtIZttpr_",
    "outputId": "482d6a4c-96df-4802-9168-0b5d7c7582e7"
   },
   "outputs": [
    {
     "name": "stdout",
     "output_type": "stream",
     "text": [
      "a is less than or equal to 0\n"
     ]
    }
   ],
   "source": [
    "a = -1\r\n",
    "\r\n",
    "if a > 0:\r\n",
    "    print('a is greater than 0')\r\n",
    "else:\r\n",
    "    print('a is less than or equal to 0')"
   ]
  },
  {
   "cell_type": "code",
   "execution_count": 127,
   "metadata": {
    "colab": {
     "base_uri": "https://localhost:8080/"
    },
    "id": "UWLdkOyMtrfy",
    "outputId": "3cd91572-a5cd-468a-9617-464a47b2cb30"
   },
   "outputs": [
    {
     "name": "stdout",
     "output_type": "stream",
     "text": [
      "-1 is less than or equal to 0\n"
     ]
    }
   ],
   "source": [
    "a = -1\r\n",
    "\r\n",
    "if a > 0:\r\n",
    "    print(f'{a} is greater than 0')\r\n",
    "else:\r\n",
    "    print(f'{a} is less than or equal to 0')"
   ]
  },
  {
   "cell_type": "code",
   "execution_count": 129,
   "metadata": {
    "colab": {
     "base_uri": "https://localhost:8080/"
    },
    "id": "1MHBsepet1CI",
    "outputId": "4f13d5e7-6559-47bb-eae0-9ba36401a2dd"
   },
   "outputs": [
    {
     "name": "stdout",
     "output_type": "stream",
     "text": [
      "-1 is less than 0\n"
     ]
    }
   ],
   "source": [
    "a = -1\r\n",
    "\r\n",
    "if a > 0:\r\n",
    "    print(f'{a} is greater than 0')\r\n",
    "elif a == 0:\r\n",
    "    print(f'{a} is exactly 0')\r\n",
    "else:\r\n",
    "    print(f'{a} is less than 0')"
   ]
  },
  {
   "cell_type": "code",
   "execution_count": 130,
   "metadata": {
    "colab": {
     "base_uri": "https://localhost:8080/"
    },
    "id": "hSadLWduuGM2",
    "outputId": "8a9b21f2-df68-4a9d-a0a7-ab42d655b74c"
   },
   "outputs": [
    {
     "name": "stdout",
     "output_type": "stream",
     "text": [
      "0 is exactly 0\n"
     ]
    }
   ],
   "source": [
    "a = 0\r\n",
    "\r\n",
    "# this checks 3 different things every single time\r\n",
    "\r\n",
    "if a > 0:\r\n",
    "    print(f'{a} is greater than 0')\r\n",
    "if a == 0:\r\n",
    "    print(f'{a} is exactly 0')\r\n",
    "if:\r\n",
    "    print(f'{a} is less than to 0')"
   ]
  },
  {
   "cell_type": "code",
   "execution_count": 131,
   "metadata": {
    "colab": {
     "base_uri": "https://localhost:8080/"
    },
    "id": "m-V3V3aIuInr",
    "outputId": "a35f0e1b-a2be-4633-eaac-5c160d62ca79"
   },
   "outputs": [
    {
     "name": "stdout",
     "output_type": "stream",
     "text": [
      "0 is exactly 0\n"
     ]
    }
   ],
   "source": [
    "a = 0\r\n",
    "\r\n",
    "# this checks however many it needs to until one is satisfied (2 in this case)\r\n",
    "\r\n",
    "if a > 0:\r\n",
    "    print(f'{a} is greater than 0')\r\n",
    "elif a == 0:\r\n",
    "    print(f'{a} is exactly 0')\r\n",
    "else:\r\n",
    "    print(f'{a} is less than to 0')"
   ]
  },
  {
   "cell_type": "markdown",
   "metadata": {
    "id": "2XP6-2xWvC3P"
   },
   "source": [
    "#### Operators"
   ]
  },
  {
   "cell_type": "code",
   "execution_count": 136,
   "metadata": {
    "colab": {
     "base_uri": "https://localhost:8080/"
    },
    "id": "tuF3f9B7vU8R",
    "outputId": "b0ed4cd6-bf49-4883-eba6-41e79df9bc06"
   },
   "outputs": [
    {
     "data": {
      "text/plain": [
       "True"
      ]
     },
     "execution_count": 136,
     "metadata": {
      "tags": []
     },
     "output_type": "execute_result"
    }
   ],
   "source": [
    "# single = sets a variable\r\n",
    "a = 'lol'\r\n",
    "\r\n",
    "# double == checks if 2 things are equal (the same)\r\n",
    "a == 'lol'"
   ]
  },
  {
   "cell_type": "code",
   "execution_count": 132,
   "metadata": {
    "colab": {
     "base_uri": "https://localhost:8080/"
    },
    "id": "0U46XdSxvCIR",
    "outputId": "052fe0e5-9b1b-4c68-9f0b-ba859253cd8c"
   },
   "outputs": [
    {
     "data": {
      "text/plain": [
       "True"
      ]
     },
     "execution_count": 132,
     "metadata": {
      "tags": []
     },
     "output_type": "execute_result"
    }
   ],
   "source": [
    "# check if something is the same as something else\r\n",
    "'lol' == 'lol'"
   ]
  },
  {
   "cell_type": "code",
   "execution_count": 133,
   "metadata": {
    "colab": {
     "base_uri": "https://localhost:8080/"
    },
    "id": "kqiGr_fYuvMx",
    "outputId": "5d0a76fb-932e-48b0-9236-aa915dadb799"
   },
   "outputs": [
    {
     "data": {
      "text/plain": [
       "False"
      ]
     },
     "execution_count": 133,
     "metadata": {
      "tags": []
     },
     "output_type": "execute_result"
    }
   ],
   "source": [
    "# check if something is not the same as something else\r\n",
    "'lol' != 'lol'"
   ]
  },
  {
   "cell_type": "code",
   "execution_count": 137,
   "metadata": {
    "colab": {
     "base_uri": "https://localhost:8080/"
    },
    "id": "RLsBHdDCvQPg",
    "outputId": "89673c6a-dcb0-4ae6-8003-e9f7259129ca"
   },
   "outputs": [
    {
     "data": {
      "text/plain": [
       "True"
      ]
     },
     "execution_count": 137,
     "metadata": {
      "tags": []
     },
     "output_type": "execute_result"
    }
   ],
   "source": [
    "# less than\r\n",
    "0 < 2"
   ]
  },
  {
   "cell_type": "code",
   "execution_count": 138,
   "metadata": {
    "colab": {
     "base_uri": "https://localhost:8080/"
    },
    "id": "yq7rTx2Evld7",
    "outputId": "075a1b5c-1b66-4c13-ba96-6f6db1ab3d49"
   },
   "outputs": [
    {
     "data": {
      "text/plain": [
       "False"
      ]
     },
     "execution_count": 138,
     "metadata": {
      "tags": []
     },
     "output_type": "execute_result"
    }
   ],
   "source": [
    "# greater than\r\n",
    "0 > 2"
   ]
  },
  {
   "cell_type": "code",
   "execution_count": 139,
   "metadata": {
    "colab": {
     "base_uri": "https://localhost:8080/"
    },
    "id": "E48oVk0IvnVG",
    "outputId": "139cf7ce-9c5f-42d1-91fe-de199f25a540"
   },
   "outputs": [
    {
     "data": {
      "text/plain": [
       "True"
      ]
     },
     "execution_count": 139,
     "metadata": {
      "tags": []
     },
     "output_type": "execute_result"
    }
   ],
   "source": [
    "# less than or equal to \r\n",
    "0 <= 2"
   ]
  },
  {
   "cell_type": "code",
   "execution_count": 140,
   "metadata": {
    "colab": {
     "base_uri": "https://localhost:8080/"
    },
    "id": "jkW_NUyqvqDL",
    "outputId": "59d3f05b-ff19-4944-bb62-61b16b2353ae"
   },
   "outputs": [
    {
     "data": {
      "text/plain": [
       "False"
      ]
     },
     "execution_count": 140,
     "metadata": {
      "tags": []
     },
     "output_type": "execute_result"
    }
   ],
   "source": [
    "# greater than or equal to \r\n",
    "0 >= 2"
   ]
  },
  {
   "cell_type": "code",
   "execution_count": 141,
   "metadata": {
    "colab": {
     "base_uri": "https://localhost:8080/"
    },
    "id": "AP35DxagvsgM",
    "outputId": "fee7d9f9-f5ce-49c6-8cc9-fecdb56d16f6"
   },
   "outputs": [
    {
     "data": {
      "text/plain": [
       "False"
      ]
     },
     "execution_count": 141,
     "metadata": {
      "tags": []
     },
     "output_type": "execute_result"
    }
   ],
   "source": [
    "0 < 0"
   ]
  },
  {
   "cell_type": "code",
   "execution_count": 142,
   "metadata": {
    "colab": {
     "base_uri": "https://localhost:8080/"
    },
    "id": "Eu6REbzqvu5W",
    "outputId": "c271f87c-8604-402b-adfd-b87e21654d0f"
   },
   "outputs": [
    {
     "data": {
      "text/plain": [
       "True"
      ]
     },
     "execution_count": 142,
     "metadata": {
      "tags": []
     },
     "output_type": "execute_result"
    }
   ],
   "source": [
    "0 <= 0"
   ]
  },
  {
   "cell_type": "markdown",
   "metadata": {
    "id": "vDvpaVuUz1jb"
   },
   "source": [
    "## Loops\r\n",
    "- for loop\r\n",
    "- while loop"
   ]
  },
  {
   "cell_type": "code",
   "execution_count": 145,
   "metadata": {
    "colab": {
     "base_uri": "https://localhost:8080/"
    },
    "id": "GLuhn5wZvv6Y",
    "outputId": "b5cf5927-67c1-467d-cda7-96af58b56e90"
   },
   "outputs": [
    {
     "name": "stdout",
     "output_type": "stream",
     "text": [
      "0\n",
      "1\n",
      "2\n",
      "3\n",
      "4\n"
     ]
    }
   ],
   "source": [
    "for i in range(5):\r\n",
    "    # starts with 0 (by default), therefore 'not inclusive'\r\n",
    "    print(i)"
   ]
  },
  {
   "cell_type": "code",
   "execution_count": 146,
   "metadata": {
    "colab": {
     "base_uri": "https://localhost:8080/"
    },
    "id": "uAXqsZ4F0ODT",
    "outputId": "5fea6fa9-60e4-44b2-ce1f-2179bfba2157"
   },
   "outputs": [
    {
     "name": "stdout",
     "output_type": "stream",
     "text": [
      "1\n",
      "2\n",
      "3\n",
      "4\n"
     ]
    }
   ],
   "source": [
    "for i in range(1, 5):\r\n",
    "    # can start with a different number, but still 'not inclusive'\r\n",
    "    print(i)"
   ]
  },
  {
   "cell_type": "code",
   "execution_count": 147,
   "metadata": {
    "colab": {
     "base_uri": "https://localhost:8080/"
    },
    "id": "86aNMz700oIT",
    "outputId": "f9a90d29-5454-46ea-9b6c-dac88859ea18"
   },
   "outputs": [
    {
     "name": "stdout",
     "output_type": "stream",
     "text": [
      "0\n",
      "1\n",
      "2\n",
      "3\n",
      "4\n",
      "5\n"
     ]
    }
   ],
   "source": [
    "l = ['a', 'few', 'things', 'in', \"this\", 'list']\r\n",
    "\r\n",
    "for i in range(len(l)):\r\n",
    "    print(i)"
   ]
  },
  {
   "cell_type": "code",
   "execution_count": 148,
   "metadata": {
    "colab": {
     "base_uri": "https://localhost:8080/"
    },
    "id": "BZbNSzC002rX",
    "outputId": "1ff63e66-36dc-4477-ec7c-135d20bb4e28"
   },
   "outputs": [
    {
     "data": {
      "text/plain": [
       "6"
      ]
     },
     "execution_count": 148,
     "metadata": {
      "tags": []
     },
     "output_type": "execute_result"
    }
   ],
   "source": [
    "# check how long something is with len()\r\n",
    "len(l)"
   ]
  },
  {
   "cell_type": "code",
   "execution_count": 149,
   "metadata": {
    "colab": {
     "base_uri": "https://localhost:8080/"
    },
    "id": "dUOnXGw806mI",
    "outputId": "e253a258-d4a3-4732-883d-c1a40add84bc"
   },
   "outputs": [
    {
     "name": "stdout",
     "output_type": "stream",
     "text": [
      "a\n",
      "few\n",
      "things\n",
      "in\n",
      "this\n",
      "list\n"
     ]
    }
   ],
   "source": [
    "for i in range(len(l)):\r\n",
    "    print(l[i])"
   ]
  },
  {
   "cell_type": "code",
   "execution_count": 151,
   "metadata": {
    "colab": {
     "base_uri": "https://localhost:8080/",
     "height": 35
    },
    "id": "IfT_hLRj1Hdi",
    "outputId": "40ee9acd-86ac-44df-ee3f-29ad783e2512"
   },
   "outputs": [
    {
     "data": {
      "application/vnd.google.colaboratory.intrinsic+json": {
       "type": "string"
      },
      "text/plain": [
       "'list'"
      ]
     },
     "execution_count": 151,
     "metadata": {
      "tags": []
     },
     "output_type": "execute_result"
    }
   ],
   "source": [
    "# l[len(l)]\r\n",
    "l[5]"
   ]
  },
  {
   "cell_type": "code",
   "execution_count": 152,
   "metadata": {
    "colab": {
     "base_uri": "https://localhost:8080/",
     "height": 35
    },
    "id": "cqVwErfz1NYn",
    "outputId": "5e477b99-9664-4d76-e838-81539f8f7b28"
   },
   "outputs": [
    {
     "data": {
      "application/vnd.google.colaboratory.intrinsic+json": {
       "type": "string"
      },
      "text/plain": [
       "'a'"
      ]
     },
     "execution_count": 152,
     "metadata": {
      "tags": []
     },
     "output_type": "execute_result"
    }
   ],
   "source": [
    "l[0]"
   ]
  },
  {
   "cell_type": "code",
   "execution_count": 153,
   "metadata": {
    "colab": {
     "base_uri": "https://localhost:8080/",
     "height": 35
    },
    "id": "3B5UYHMs1Spv",
    "outputId": "fdaf458c-dd36-40da-a77f-750af47801dd"
   },
   "outputs": [
    {
     "data": {
      "application/vnd.google.colaboratory.intrinsic+json": {
       "type": "string"
      },
      "text/plain": [
       "'few'"
      ]
     },
     "execution_count": 153,
     "metadata": {
      "tags": []
     },
     "output_type": "execute_result"
    }
   ],
   "source": [
    "l[1]"
   ]
  },
  {
   "cell_type": "code",
   "execution_count": 155,
   "metadata": {
    "colab": {
     "base_uri": "https://localhost:8080/"
    },
    "id": "Z-9T29Yq1hYX",
    "outputId": "13fb2e33-bbf1-4a52-a38d-8274c31612d4"
   },
   "outputs": [
    {
     "name": "stdout",
     "output_type": "stream",
     "text": [
      "0\n",
      "1\n",
      "2\n",
      "3\n",
      "4\n"
     ]
    }
   ],
   "source": [
    "a = 0\r\n",
    "\r\n",
    "# as long as a is less than 5\r\n",
    "while a < 5:\r\n",
    "    # tell me what a is\r\n",
    "    print(a)\r\n",
    "    # add 1 to the value of a\r\n",
    "    a += 1  # a = a + 1"
   ]
  },
  {
   "cell_type": "code",
   "execution_count": 159,
   "metadata": {
    "colab": {
     "base_uri": "https://localhost:8080/"
    },
    "id": "b3SJlDKE15pe",
    "outputId": "5ff2e9ef-9777-42bb-93cd-640cbd8a610b"
   },
   "outputs": [
    {
     "name": "stdout",
     "output_type": "stream",
     "text": [
      "a\n",
      "b\n",
      "c\n"
     ]
    }
   ],
   "source": [
    "l = ['a', 'b', 'c']\r\n",
    "\r\n",
    "for i in l:\r\n",
    "    print(i)"
   ]
  },
  {
   "cell_type": "code",
   "execution_count": 160,
   "metadata": {
    "colab": {
     "base_uri": "https://localhost:8080/"
    },
    "id": "ztikA1te2Qne",
    "outputId": "9554defd-7a09-4bd0-b1b8-63b8fb10e185"
   },
   "outputs": [
    {
     "name": "stdout",
     "output_type": "stream",
     "text": [
      "a\n",
      "b\n",
      "c\n"
     ]
    }
   ],
   "source": [
    "for _ in l:\r\n",
    "    print(_)"
   ]
  },
  {
   "cell_type": "code",
   "execution_count": 163,
   "metadata": {
    "colab": {
     "base_uri": "https://localhost:8080/"
    },
    "id": "k5Lpzhcp2aa4",
    "outputId": "5108ddf2-3d1c-43eb-992b-e8c6674b872d"
   },
   "outputs": [
    {
     "name": "stdout",
     "output_type": "stream",
     "text": [
      "0\n",
      "1\n",
      "2\n"
     ]
    }
   ],
   "source": [
    "for i in range(len(l)):\r\n",
    "    print(i)"
   ]
  },
  {
   "cell_type": "code",
   "execution_count": 167,
   "metadata": {
    "colab": {
     "base_uri": "https://localhost:8080/"
    },
    "id": "x_fXZTE72ddf",
    "outputId": "1affa460-b1f7-4096-f4d1-717b86ee0531"
   },
   "outputs": [
    {
     "name": "stdout",
     "output_type": "stream",
     "text": [
      "a\n",
      "b\n",
      "c\n"
     ]
    }
   ],
   "source": [
    "l = ['a', 'b', 'c']\r\n",
    "\r\n",
    "# go through the index of the list l\r\n",
    "for i in range(len(l)):\r\n",
    "    # print the item at that index\r\n",
    "    print(l[i])"
   ]
  },
  {
   "cell_type": "code",
   "execution_count": 166,
   "metadata": {
    "colab": {
     "base_uri": "https://localhost:8080/"
    },
    "id": "MDLfrKVf2v22",
    "outputId": "39978cc4-021e-4b25-bb19-6bd15c765332"
   },
   "outputs": [
    {
     "name": "stdout",
     "output_type": "stream",
     "text": [
      "a\n",
      "0\n",
      "b\n",
      "1\n",
      "c\n",
      "2\n"
     ]
    }
   ],
   "source": [
    "l = ['a', 'b', 'c']\r\n",
    "\r\n",
    "# go through the index of the list l\r\n",
    "for i in range(len(l)):\r\n",
    "    # print the item at that index\r\n",
    "    print(l[i])\r\n",
    "    # print the index \r\n",
    "    print(i)"
   ]
  },
  {
   "cell_type": "markdown",
   "metadata": {
    "id": "J13Ojxkd3Omc"
   },
   "source": [
    "## Functions\r\n",
    "\r\n",
    "```\r\n",
    "def function_name():\r\n",
    "    your function here\r\n",
    "```"
   ]
  },
  {
   "cell_type": "markdown",
   "metadata": {
    "id": "0Mk5cWrq33Yq"
   },
   "source": [
    "```\r\n",
    "def add_two_numbers(number 1, number 2):\r\n",
    "    take number 1 and add it to number 2\r\n",
    "    return the result\r\n",
    "```"
   ]
  },
  {
   "cell_type": "code",
   "execution_count": 170,
   "metadata": {
    "colab": {
     "base_uri": "https://localhost:8080/"
    },
    "id": "S9uGJPuR4YJ2",
    "outputId": "9f839af8-6c6d-4537-bd52-d918d2af33be"
   },
   "outputs": [
    {
     "data": {
      "text/plain": [
       "3"
      ]
     },
     "execution_count": 170,
     "metadata": {
      "tags": []
     },
     "output_type": "execute_result"
    }
   ],
   "source": [
    "def add_two_numbers(n1, n2):\r\n",
    "    out = n1 + n2\r\n",
    "    return out\r\n",
    "\r\n",
    "\r\n",
    "add_two_numbers(1, 2)"
   ]
  },
  {
   "cell_type": "code",
   "execution_count": 171,
   "metadata": {
    "colab": {
     "base_uri": "https://localhost:8080/"
    },
    "id": "CHkywAHq4mfb",
    "outputId": "6405e742-e80e-4489-9231-3e42bc07d2cf"
   },
   "outputs": [
    {
     "name": "stdout",
     "output_type": "stream",
     "text": [
      "3\n"
     ]
    }
   ],
   "source": [
    "print(add_two_numbers(1, 2))"
   ]
  },
  {
   "cell_type": "markdown",
   "metadata": {
    "id": "yAeKc_pE4ujz"
   },
   "source": [
    "**print vs return**"
   ]
  },
  {
   "cell_type": "code",
   "execution_count": 181,
   "metadata": {
    "colab": {
     "base_uri": "https://localhost:8080/"
    },
    "id": "h5a3lPtZ4r3o",
    "outputId": "f1acfd4c-9d15-41dd-843d-e937b78e2155"
   },
   "outputs": [
    {
     "name": "stdout",
     "output_type": "stream",
     "text": [
      "3\n"
     ]
    }
   ],
   "source": [
    "# print just displays a number\r\n",
    "def add_two_numbers_p(n1, n2):\r\n",
    "    out = n1 + n2\r\n",
    "    print(out)\r\n",
    "\r\n",
    "\r\n",
    "add_two_numbers_p(1, 2)"
   ]
  },
  {
   "cell_type": "code",
   "execution_count": 182,
   "metadata": {
    "colab": {
     "base_uri": "https://localhost:8080/"
    },
    "id": "BfKkzCsb4640",
    "outputId": "3bb0cb03-4f3a-49e7-a8aa-4761feb72bf1"
   },
   "outputs": [
    {
     "name": "stdout",
     "output_type": "stream",
     "text": [
      "3\n"
     ]
    }
   ],
   "source": [
    "outcome = add_two_numbers_p(1, 2)"
   ]
  },
  {
   "cell_type": "code",
   "execution_count": 183,
   "metadata": {
    "id": "dybrcjE35B-3"
   },
   "outputs": [],
   "source": [
    "outcome"
   ]
  },
  {
   "cell_type": "code",
   "execution_count": 184,
   "metadata": {
    "colab": {
     "base_uri": "https://localhost:8080/"
    },
    "id": "nsQxEXPt5K-R",
    "outputId": "82d31692-74a5-44a0-e2ae-2da0d3c677f7"
   },
   "outputs": [
    {
     "data": {
      "text/plain": [
       "True"
      ]
     },
     "execution_count": 184,
     "metadata": {
      "tags": []
     },
     "output_type": "execute_result"
    }
   ],
   "source": [
    "outcome == None"
   ]
  },
  {
   "cell_type": "code",
   "execution_count": 187,
   "metadata": {
    "id": "N7U-ce7z5SRn"
   },
   "outputs": [],
   "source": [
    "def add_two_numbers(n1, n2):\r\n",
    "    out = n1 + n2\r\n",
    "    return out\r\n",
    "\r\n",
    "\r\n",
    "outcome = add_two_numbers(1, 2)"
   ]
  },
  {
   "cell_type": "code",
   "execution_count": 188,
   "metadata": {
    "colab": {
     "base_uri": "https://localhost:8080/"
    },
    "id": "Q4j6LAgh5ZGt",
    "outputId": "0d56e6cd-254d-4857-8431-85a11d77bf1b"
   },
   "outputs": [
    {
     "data": {
      "text/plain": [
       "3"
      ]
     },
     "execution_count": 188,
     "metadata": {
      "tags": []
     },
     "output_type": "execute_result"
    }
   ],
   "source": [
    "outcome"
   ]
  },
  {
   "cell_type": "code",
   "execution_count": 189,
   "metadata": {
    "colab": {
     "base_uri": "https://localhost:8080/"
    },
    "id": "hxFKI9eX5gwu",
    "outputId": "53b17dd1-30fe-428a-ee11-6601d3470445"
   },
   "outputs": [
    {
     "data": {
      "text/plain": [
       "False"
      ]
     },
     "execution_count": 189,
     "metadata": {
      "tags": []
     },
     "output_type": "execute_result"
    }
   ],
   "source": [
    "outcome == None"
   ]
  },
  {
   "cell_type": "markdown",
   "metadata": {
    "id": "gn5kKe3a50W7"
   },
   "source": [
    "#### Default Parameters"
   ]
  },
  {
   "cell_type": "code",
   "execution_count": 211,
   "metadata": {
    "id": "VaS80cKu5r7c"
   },
   "outputs": [],
   "source": [
    "def add_two_numbers(n1, n2, print_out=False):\r\n",
    "    out = n1 + n2\r\n",
    "\r\n",
    "    if print_out:\r\n",
    "        print(out)\r\n",
    "\r\n",
    "    return out\r\n",
    "\r\n",
    "\r\n",
    "o = add_two_numbers(5, 7)"
   ]
  },
  {
   "cell_type": "code",
   "execution_count": 212,
   "metadata": {
    "colab": {
     "base_uri": "https://localhost:8080/"
    },
    "id": "ZV6bCl986RQl",
    "outputId": "b9d8dbf3-07f1-434b-b7bd-17402baf275d"
   },
   "outputs": [
    {
     "data": {
      "text/plain": [
       "12"
      ]
     },
     "execution_count": 212,
     "metadata": {
      "tags": []
     },
     "output_type": "execute_result"
    }
   ],
   "source": [
    "o"
   ]
  },
  {
   "cell_type": "code",
   "execution_count": 213,
   "metadata": {
    "colab": {
     "base_uri": "https://localhost:8080/"
    },
    "id": "WRFMcEtw5iKW",
    "outputId": "1a9f8d00-1888-421e-b630-bdbd2f979eb4"
   },
   "outputs": [
    {
     "name": "stdout",
     "output_type": "stream",
     "text": [
      "12\n"
     ]
    }
   ],
   "source": [
    "o = add_two_numbers(5, 7, print_out=True)"
   ]
  },
  {
   "cell_type": "code",
   "execution_count": 214,
   "metadata": {
    "colab": {
     "base_uri": "https://localhost:8080/"
    },
    "id": "QtfSzuC96PA2",
    "outputId": "9098f474-1c1a-4bc8-8387-8638efa1da00"
   },
   "outputs": [
    {
     "data": {
      "text/plain": [
       "12"
      ]
     },
     "execution_count": 214,
     "metadata": {
      "tags": []
     },
     "output_type": "execute_result"
    }
   ],
   "source": [
    "o"
   ]
  },
  {
   "cell_type": "code",
   "execution_count": 226,
   "metadata": {
    "id": "vyRi9tPk6wIC"
   },
   "outputs": [],
   "source": [
    "# with all default arguments\r\n",
    "def add_two_numbers(n1=1, n2=2, print_out=False):\r\n",
    "    out = n1 + n2\r\n",
    "\r\n",
    "    if print_out:\r\n",
    "        print(out)\r\n",
    "\r\n",
    "    return out"
   ]
  },
  {
   "cell_type": "code",
   "execution_count": 227,
   "metadata": {
    "colab": {
     "base_uri": "https://localhost:8080/"
    },
    "id": "zOc3pL5e6QZm",
    "outputId": "9f421c9b-e0ad-4e8a-8cc1-cdec886d8dc5"
   },
   "outputs": [
    {
     "data": {
      "text/plain": [
       "3"
      ]
     },
     "execution_count": 227,
     "metadata": {
      "tags": []
     },
     "output_type": "execute_result"
    }
   ],
   "source": [
    "j = add_two_numbers()\r\n",
    "\r\n",
    "j"
   ]
  },
  {
   "cell_type": "code",
   "execution_count": 228,
   "metadata": {
    "colab": {
     "base_uri": "https://localhost:8080/"
    },
    "id": "Ltd6aBce6qoD",
    "outputId": "7de6081f-22aa-4110-f29b-c1f6229d708d"
   },
   "outputs": [
    {
     "data": {
      "text/plain": [
       "8"
      ]
     },
     "execution_count": 228,
     "metadata": {
      "tags": []
     },
     "output_type": "execute_result"
    }
   ],
   "source": [
    "j = add_two_numbers(n2=7)\r\n",
    "\r\n",
    "j"
   ]
  },
  {
   "cell_type": "code",
   "execution_count": 229,
   "metadata": {
    "colab": {
     "base_uri": "https://localhost:8080/"
    },
    "id": "YVd8Vapx6zXs",
    "outputId": "40fd41b3-6385-4a61-a01d-ec25181e3917"
   },
   "outputs": [
    {
     "name": "stdout",
     "output_type": "stream",
     "text": [
      "3\n"
     ]
    }
   ],
   "source": [
    "w = add_two_numbers(print_out=True)"
   ]
  },
  {
   "cell_type": "code",
   "execution_count": 230,
   "metadata": {
    "id": "TmpRKZ2j64wG"
   },
   "outputs": [],
   "source": [
    "# with 1 required input\r\n",
    "def add_two_numbers(n1, n2=2, print_out=False):\r\n",
    "    out = n1 + n2\r\n",
    "\r\n",
    "    if print_out:\r\n",
    "        print(out)\r\n",
    "\r\n",
    "    return out"
   ]
  },
  {
   "cell_type": "code",
   "execution_count": 235,
   "metadata": {
    "colab": {
     "base_uri": "https://localhost:8080/"
    },
    "id": "wNNnmXt67jfu",
    "outputId": "c4aa2af3-c0bf-43b7-a0f8-a7ca907beee0"
   },
   "outputs": [
    {
     "data": {
      "text/plain": [
       "8"
      ]
     },
     "execution_count": 235,
     "metadata": {
      "tags": []
     },
     "output_type": "execute_result"
    }
   ],
   "source": [
    "add_two_numbers(n1=6)"
   ]
  },
  {
   "cell_type": "code",
   "execution_count": 236,
   "metadata": {
    "colab": {
     "base_uri": "https://localhost:8080/"
    },
    "id": "fTWqsrmS7um0",
    "outputId": "b5b3e92f-1c4d-43c9-8eb5-9b3a8d58ab6a"
   },
   "outputs": [
    {
     "data": {
      "text/plain": [
       "4"
      ]
     },
     "execution_count": 236,
     "metadata": {
      "tags": []
     },
     "output_type": "execute_result"
    }
   ],
   "source": [
    "add_two_numbers(2)"
   ]
  },
  {
   "cell_type": "code",
   "execution_count": 238,
   "metadata": {
    "colab": {
     "base_uri": "https://localhost:8080/"
    },
    "id": "K9VzOuWH7kQo",
    "outputId": "5bf3a311-c4fb-4ac5-bf04-ea20e25639c1"
   },
   "outputs": [
    {
     "data": {
      "text/plain": [
       "11"
      ]
     },
     "execution_count": 238,
     "metadata": {
      "tags": []
     },
     "output_type": "execute_result"
    }
   ],
   "source": [
    "add_two_numbers(7, 4, False)"
   ]
  },
  {
   "cell_type": "markdown",
   "metadata": {
    "id": "QavNtd6Z79Lf"
   },
   "source": [
    "# Sorting"
   ]
  },
  {
   "cell_type": "code",
   "execution_count": 243,
   "metadata": {
    "colab": {
     "base_uri": "https://localhost:8080/"
    },
    "id": "QeIsdH4D7otf",
    "outputId": "c0f91c0c-29b9-4685-9f81-a95901db0064"
   },
   "outputs": [
    {
     "data": {
      "text/plain": [
       "-1"
      ]
     },
     "execution_count": 243,
     "metadata": {
      "tags": []
     },
     "output_type": "execute_result"
    }
   ],
   "source": [
    "\"\"\"\r\n",
    "write a function that take in a list of numbers and returns the list sorted from least to greatest\r\n",
    "\"\"\"\r\n",
    "\r\n",
    "\r\n",
    "def find_the_lowest_value(a_list):\r\n",
    "    \"\"\"\r\n",
    "    returns the lowest value in a list\r\n",
    "    \"\"\"\r\n",
    "    for i in range(len(a_list)):\r\n",
    "        if i == 0:\r\n",
    "            low = a_list[i]\r\n",
    "        elif a_list[i] < low:\r\n",
    "            low = a_list[i]\r\n",
    "    return low\r\n",
    "\r\n",
    "\r\n",
    "list_b = [3, -1, 2, 1]\r\n",
    "\r\n",
    "find_the_lowest_value(list_b)"
   ]
  },
  {
   "cell_type": "code",
   "execution_count": 253,
   "metadata": {
    "colab": {
     "base_uri": "https://localhost:8080/"
    },
    "id": "Pit4poVJ8_0Z",
    "outputId": "e7f5d5d2-7ec4-419c-95d2-3b6b266831f4"
   },
   "outputs": [
    {
     "data": {
      "text/plain": [
       "[-1, 1, 2, 2, 3, 3]"
      ]
     },
     "execution_count": 253,
     "metadata": {
      "tags": []
     },
     "output_type": "execute_result"
    }
   ],
   "source": [
    "def sort_from_least_to_greatest(list_here):\r\n",
    "    \"\"\"\r\n",
    "    takes a list of numbers and returns a new list sorted from least to greatest\r\n",
    "    \"\"\"\r\n",
    "    sorted_list = []\r\n",
    "\r\n",
    "    # go through the index of the original list\r\n",
    "    for i in range(len(list_here)):\r\n",
    "\r\n",
    "        low_value = find_the_lowest_value(list_here)\r\n",
    "\r\n",
    "        # remove lowest value from orignial list\r\n",
    "        list_here.remove(low_value)\r\n",
    "\r\n",
    "        # add the lowest value to the new list\r\n",
    "        sorted_list.append(low_value)\r\n",
    "\r\n",
    "    # output the new list sorted from least to greatest\r\n",
    "    return sorted_list\r\n",
    "\r\n",
    "\r\n",
    "list_b = [3, -1, 2, 3, 2, 1]\r\n",
    "sort_from_least_to_greatest(list_b)"
   ]
  },
  {
   "cell_type": "code",
   "execution_count": null,
   "metadata": {
    "id": "iv5rUQIZCoSu"
   },
   "outputs": [],
   "source": []
  },
  {
   "cell_type": "markdown",
   "metadata": {
    "id": "F2drnLiVBIxg"
   },
   "source": [
    "All of that already has a function. And it's a built in list function."
   ]
  },
  {
   "cell_type": "code",
   "execution_count": 254,
   "metadata": {
    "colab": {
     "base_uri": "https://localhost:8080/"
    },
    "id": "O_JwadE2_DcY",
    "outputId": "7609732d-812e-4410-96ac-8c528a9fe30c"
   },
   "outputs": [
    {
     "data": {
      "text/plain": [
       "[-1, 1, 2, 2, 3, 3]"
      ]
     },
     "execution_count": 254,
     "metadata": {
      "tags": []
     },
     "output_type": "execute_result"
    }
   ],
   "source": [
    "list_b = [3, -1, 2, 3, 2, 1]\r\n",
    "\r\n",
    "list_b.sort()\r\n",
    "\r\n",
    "list_b"
   ]
  }
 ],
 "metadata": {
  "colab": {
   "authorship_tag": "ABX9TyOLqEdz9yA8uPHjZ4MUmAoi",
   "include_colab_link": true,
   "name": "intro_to_python.ipynb",
   "provenance": []
  },
  "kernelspec": {
   "display_name": "Python 3",
   "language": "python",
   "name": "python3"
  },
  "language_info": {
   "codemirror_mode": {
    "name": "ipython",
    "version": 3
   },
   "file_extension": ".py",
   "mimetype": "text/x-python",
   "name": "python",
   "nbconvert_exporter": "python",
   "pygments_lexer": "ipython3",
   "version": "3.7.4"
  }
 },
 "nbformat": 4,
 "nbformat_minor": 4
}
