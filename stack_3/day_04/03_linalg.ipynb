{
  "nbformat": 4,
  "nbformat_minor": 0,
  "metadata": {
    "kernelspec": {
      "display_name": "Python 3",
      "language": "python",
      "name": "python3"
    },
    "language_info": {
      "codemirror_mode": {
        "name": "ipython",
        "version": 3
      },
      "file_extension": ".py",
      "mimetype": "text/x-python",
      "name": "python",
      "nbconvert_exporter": "python",
      "pygments_lexer": "ipython3",
      "version": "3.7.4"
    },
    "colab": {
      "name": "03_linalg.ipynb",
      "provenance": [],
      "include_colab_link": true
    }
  },
  "cells": [
    {
      "cell_type": "markdown",
      "metadata": {
        "id": "view-in-github",
        "colab_type": "text"
      },
      "source": [
        "<a href=\"https://colab.research.google.com/github/gumdropsteve/intro_to_python/blob/main/day_04/03_linalg.ipynb\" target=\"_parent\"><img src=\"https://colab.research.google.com/assets/colab-badge.svg\" alt=\"Open In Colab\"/></a>"
      ]
    },
    {
      "cell_type": "markdown",
      "metadata": {
        "id": "zz2gPozLCcpL"
      },
      "source": [
        "### Solve using Numpy\n",
        "\n",
        "3x + 5y = 6\n",
        "\n",
        "7x - 5y = 9\n",
        "\n",
        "---\n",
        "\n",
        "x + y + z = 6\n",
        "\n",
        "y + z = -4\n",
        "    \n",
        "2x + 5y - z = 27\n",
        "\n",
        "---\n",
        "\n",
        "x + y = 4\n",
        "\n",
        "2x + 2y = 8"
      ]
    },
    {
      "cell_type": "code",
      "metadata": {
        "id": "QyJ3X01uCcpM"
      },
      "source": [
        "import numpy as np"
      ],
      "execution_count": null,
      "outputs": []
    },
    {
      "cell_type": "markdown",
      "metadata": {
        "id": "wKhsBrp-CcpM"
      },
      "source": [
        "### Question 1\n",
        "\n",
        "3x + 5y = 6\n",
        "\n",
        "7x - 5y = 9"
      ]
    },
    {
      "cell_type": "code",
      "metadata": {
        "colab": {
          "base_uri": "https://localhost:8080/"
        },
        "id": "7Oq8hIBPCcpM",
        "outputId": "07c80148-14b4-48c8-b3d6-7f7304b25683"
      },
      "source": [
        "# Create a coefficients matrix\n",
        "coeff_matrix = np.array(\n",
        "    [[3, 5],\n",
        "     [7, -5]]\n",
        ")\n",
        "\n",
        "# Results Matrix\n",
        "result_matrix = np.array(\n",
        "    [[6],\n",
        "     [9]]\n",
        ")\n",
        "\n",
        "# Calculate the results\n",
        "results = np.linalg.inv(coeff_matrix).dot(result_matrix)\n",
        "\n",
        "# Check Answer\n",
        "x = results[0]\n",
        "y = results[1]\n",
        "\n",
        "check_answer = (3*x) + (5*y)\n",
        "print(f\"Answer to 3x+5y = 6 where x={x[0]} and y={y[0]}: {check_answer[0]}\\n\")\n",
        "\n",
        "check_answer2 = (7*x)-(5*y)\n",
        "print(f\"Answer to 7x-5y = 9 where x={x[0]} and y={y[0]}: {check_answer2[0]}\")"
      ],
      "execution_count": null,
      "outputs": [
        {
          "output_type": "stream",
          "text": [
            "Answer to 3x+5y = 6 where x=1.5 and y=0.30000000000000004: 6.0\n",
            "\n",
            "Answer to 7x-5y = 9 where x=1.5 and y=0.30000000000000004: 9.0\n"
          ],
          "name": "stdout"
        }
      ]
    },
    {
      "cell_type": "markdown",
      "metadata": {
        "id": "5TCyikB9CcpN"
      },
      "source": [
        "### Question 2\n",
        "\n",
        "x + y + z = 6\n",
        "\n",
        "   y + z = -4\n",
        "    \n",
        "2x + 5y - z = 27"
      ]
    },
    {
      "cell_type": "code",
      "metadata": {
        "colab": {
          "base_uri": "https://localhost:8080/"
        },
        "id": "cPpkBVtyCcpN",
        "outputId": "41526cf5-dc53-4b26-93fc-a81d7b1d974b"
      },
      "source": [
        "# Create a coefficients matrix\n",
        "coeff_matrix = np.array(\n",
        "    [[1, 1, 1],\n",
        "     [0, 1, 1],\n",
        "     [2, 5, -1]]\n",
        ")\n",
        "\n",
        "# Results Matrix\n",
        "result_matrix = np.array(\n",
        "    [[6],\n",
        "     [-4],\n",
        "     [27]]\n",
        ")\n",
        "\n",
        "# Calculate the results\n",
        "results = np.linalg.inv(coeff_matrix).dot(result_matrix)\n",
        "\n",
        "# Check Answer\n",
        "x = results[0]\n",
        "y = results[1]\n",
        "z = results[2]\n",
        "\n",
        "check_answer3 = x+y+z\n",
        "print(f\"Answer to x+y+z = 6 where x={x[0]}, y={y[0]}, z={z[0]}: {check_answer3[0]}\\n\")\n",
        "check_answer4 = y+z\n",
        "print(f\"Answer to y+z = -4 where y={y[0]} and z={z[0]}: {check_answer4[0]}\\n\")\n",
        "check_answer5 = (2*x) + (5*y) - z\n",
        "print(f\"Answer to 2x+5y-z = 27 where x={x[0]}, y={y[0]}, z={z[0]}: {check_answer5[0]}\\n\")"
      ],
      "execution_count": null,
      "outputs": [
        {
          "output_type": "stream",
          "text": [
            "Answer to x+y+z = 6 where x=10.000000000000002, y=0.5, z=-4.5: 6.000000000000002\n",
            "\n",
            "Answer to y+z = -4 where y=0.5 and z=-4.5: -4.0\n",
            "\n",
            "Answer to 2x+5y-z = 27 where x=10.000000000000002, y=0.5, z=-4.5: 27.000000000000004\n",
            "\n"
          ],
          "name": "stdout"
        }
      ]
    },
    {
      "cell_type": "markdown",
      "metadata": {
        "id": "kDn2tHPsCcpO"
      },
      "source": [
        "### Question 3\n",
        "\n",
        "x + y = 4\n",
        "\n",
        "2x + 2y = 8"
      ]
    },
    {
      "cell_type": "code",
      "metadata": {
        "colab": {
          "base_uri": "https://localhost:8080/"
        },
        "id": "9Ge8JwKMCcpO",
        "outputId": "a83f2ff7-65f7-449a-88a5-27ab1c92bccc"
      },
      "source": [
        "# Create a coefficients matrix\n",
        "# We add a small value to the diagonal values so we dont end up with a determinant of 0\n",
        "coeff_matrix = np.array(\n",
        "    [[1, 1.00001],\n",
        "     [2.00001, 2]\n",
        "    ]\n",
        ")\n",
        "\n",
        "# Results Matrix\n",
        "result_matrix = np.array(\n",
        "    [[4],\n",
        "     [8]]\n",
        ")\n",
        "\n",
        "# Calculate the results\n",
        "results = np.linalg.inv(coeff_matrix).dot(result_matrix)\n",
        "\n",
        "# Check Answer\n",
        "x = results[0]\n",
        "y = results[1]\n",
        "\n",
        "check_answer6 = x+y\n",
        "print(f\"Answer to x+y = 4 where x={x[0]} and y={y[0]}: {check_answer6[0]}\\n\")\n",
        "check_answer7 = (2*x) + (2*y)\n",
        "print(f\"Answer to 2x+2y = 4 where x={x[0]} and y={y[0]}: {check_answer7[0]}\\n\")"
      ],
      "execution_count": null,
      "outputs": [
        {
          "output_type": "stream",
          "text": [
            "Answer to x+y = 4 where x=2.666657777794171 and y=1.3333288889261894: 3.9999866667203605\n",
            "\n",
            "Answer to 2x+2y = 4 where x=2.666657777794171 and y=1.3333288889261894: 7.999973333440721\n",
            "\n"
          ],
          "name": "stdout"
        }
      ]
    }
  ]
}