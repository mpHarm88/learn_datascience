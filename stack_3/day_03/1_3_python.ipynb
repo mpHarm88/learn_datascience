{
 "cells": [
  {
   "cell_type": "markdown",
   "metadata": {},
   "source": [
    "## Introduction to Random Numbers with NumPy\n",
    "\n",
    "#### References\n",
    "- [NumPy Random Documentation](https://numpy.org/doc/stable/reference/random/index.html)\n",
    "- [Statistical Randomness](https://en.wikipedia.org/wiki/Statistical_randomness)"
   ]
  },
  {
   "cell_type": "code",
   "execution_count": 80,
   "metadata": {},
   "outputs": [],
   "source": [
    "# Import our packages\n",
    "import random\n",
    "import numpy as np\n",
    "import matplotlib.pyplot as plt\n",
    "plt.style.use(\"seaborn\")"
   ]
  },
  {
   "cell_type": "markdown",
   "metadata": {},
   "source": [
    "### Random Numbers\n"
   ]
  },
  {
   "cell_type": "code",
   "execution_count": 81,
   "metadata": {},
   "outputs": [
    {
     "data": {
      "text/plain": [
       "array([0.07231256, 0.15556207, 0.86524577, 0.60915599, 0.65357217,\n",
       "       0.38105992, 0.00889366, 0.28384554, 0.60156379, 0.27957637])"
      ]
     },
     "execution_count": 81,
     "metadata": {},
     "output_type": "execute_result"
    }
   ],
   "source": [
    "# Generating Multiple Random Values between 0 and 1\n",
    "np.random.random(10)"
   ]
  },
  {
   "cell_type": "code",
   "execution_count": 87,
   "metadata": {},
   "outputs": [
    {
     "data": {
      "text/plain": [
       "array([93, 80, 64, 96])"
      ]
     },
     "execution_count": 87,
     "metadata": {},
     "output_type": "execute_result"
    }
   ],
   "source": [
    "# Generate Four Random Integers Between 1 and 100\n",
    "np.random.randint(low=1, high=100, size=4)"
   ]
  },
  {
   "cell_type": "code",
   "execution_count": 146,
   "metadata": {},
   "outputs": [
    {
     "data": {
      "text/plain": [
       "array([[0.76834544, 0.73702077, 0.43074237, 0.3382856 , 0.54783322],\n",
       "       [0.76049923, 0.38632242, 0.64217912, 0.63740061, 0.60977826],\n",
       "       [0.41246168, 0.23049116, 0.03867749, 0.26259378, 0.48002899],\n",
       "       [0.59652376, 0.47609063, 0.22023962, 0.09340368, 0.01124963],\n",
       "       [0.82730356, 0.49561075, 0.18934795, 0.67183173, 0.50394131]])"
      ]
     },
     "execution_count": 146,
     "metadata": {},
     "output_type": "execute_result"
    }
   ],
   "source": [
    "# Generate A Random 5x5 Matrix\n",
    "np.random.rand(5,5)"
   ]
  },
  {
   "cell_type": "markdown",
   "metadata": {},
   "source": [
    "### Random Numbers Generator\n",
    "Instead of setting the random state for each method we can use a random number generator to help make it easier to reproduce our results by setting on seed at the start.\n",
    "\n",
    "We will use the generator object o generate the values for the remaining examples\n",
    "\n",
    "- [Reference](https://numpy.org/doc/stable/reference/random/generator.html)"
   ]
  },
  {
   "cell_type": "code",
   "execution_count": 151,
   "metadata": {},
   "outputs": [],
   "source": [
    "# Create generator and set seed to 12345\n",
    "rng = np.random.default_rng(12345)"
   ]
  },
  {
   "cell_type": "markdown",
   "metadata": {},
   "source": [
    "### Creating a Normal Distribution\n",
    "\n",
    "- [Reference](https://en.wikipedia.org/wiki/Normal_distribution)\n",
    "\n",
    "![](https://upload.wikimedia.org/wikipedia/commons/thumb/8/8c/Standard_deviation_diagram.svg/2880px-Standard_deviation_diagram.svg.png)"
   ]
  },
  {
   "cell_type": "code",
   "execution_count": 152,
   "metadata": {},
   "outputs": [
    {
     "data": {
      "text/plain": [
       "-1.4238250364546312"
      ]
     },
     "execution_count": 152,
     "metadata": {},
     "output_type": "execute_result"
    }
   ],
   "source": [
    "# Generate A Random Number From The Normal Distribution\n",
    "rng.normal()"
   ]
  },
  {
   "cell_type": "code",
   "execution_count": 153,
   "metadata": {},
   "outputs": [
    {
     "data": {
      "text/plain": [
       "array([ 1.26372846, -0.87066174, -0.25917323, -0.07534331])"
      ]
     },
     "execution_count": 153,
     "metadata": {},
     "output_type": "execute_result"
    }
   ],
   "source": [
    "# Generate Four Random Numbers From The Normal Distribution\n",
    "rng.normal(size=4)"
   ]
  },
  {
   "cell_type": "code",
   "execution_count": 154,
   "metadata": {},
   "outputs": [
    {
     "data": {
      "image/png": "[encoded data removed]",
      "text/plain": [
       "<Figure size 576x396 with 1 Axes>"
      ]
     },
     "metadata": {},
     "output_type": "display_data"
    }
   ],
   "source": [
    "# Plot the normal distribution\n",
    "values = rng.normal(size=1000000)\n",
    "plt.hist(values, bins=20)\n",
    "plt.title(\"Normal Distribution\");"
   ]
  },
  {
   "cell_type": "markdown",
   "metadata": {},
   "source": [
    "### Uniform Distribution\n",
    "\n",
    "[Reference](https://en.wikipedia.org/wiki/Continuous_uniform_distribution)"
   ]
  },
  {
   "cell_type": "code",
   "execution_count": 155,
   "metadata": {},
   "outputs": [
    {
     "data": {
      "text/plain": [
       "array([0.35325523, 0.57195223, 0.61792695, 0.56397646])"
      ]
     },
     "execution_count": 155,
     "metadata": {},
     "output_type": "execute_result"
    }
   ],
   "source": [
    "# Generate Four Random Numbers From The Uniform Distribution\n",
    "rng.uniform(size=4)"
   ]
  },
  {
   "cell_type": "code",
   "execution_count": 156,
   "metadata": {},
   "outputs": [
    {
     "data": {
      "image/png": "[encoded data removed]",
      "text/plain": [
       "<Figure size 576x396 with 1 Axes>"
      ]
     },
     "metadata": {},
     "output_type": "display_data"
    }
   ],
   "source": [
    "# Plot the uniform distribution\n",
    "values = rng.uniform(size=1000000)\n",
    "plt.hist(values, bins=20)\n",
    "plt.title(\"Uniform Distribution\");"
   ]
  },
  {
   "cell_type": "markdown",
   "metadata": {},
   "source": [
    "### Binomial Distribution\n",
    "\n",
    "[Reference](https://en.wikipedia.org/wiki/Binomial_distribution)"
   ]
  },
  {
   "cell_type": "code",
   "execution_count": 194,
   "metadata": {},
   "outputs": [
    {
     "data": {
      "image/png": "[encoded data removed]",
      "text/plain": [
       "<Figure size 576x396 with 1 Axes>"
      ]
     },
     "metadata": {},
     "output_type": "display_data"
    }
   ],
   "source": [
    "# Plot the binomial distribution\n",
    "values = rng.binomial(1, .5, 10000)\n",
    "plt.hist(values, bins=20)\n",
    "plt.title(\"Binomial Distribution\");"
   ]
  },
  {
   "cell_type": "markdown",
   "metadata": {},
   "source": [
    "### Simulate Flipping a Coin\n",
    "\n",
    "![](https://external-content.duckduckgo.com/iu/?u=http%3A%2F%2Fbestanimations.com%2FMoney%2FCoins%2Fflipping-coin-animated-gif-1.gif&f=1&nofb=1)\n",
    "\n",
    "For our example we will have the following rules:\n",
    "- 0 = Heads\n",
    "- 1 = Tails"
   ]
  },
  {
   "cell_type": "code",
   "execution_count": 158,
   "metadata": {},
   "outputs": [],
   "source": [
    "# Simulating Rolling 2 Dice with random sampling\n",
    "\n",
    "# Create Dictionary to hold counts\n",
    "coin_dict = {x:0 for x in range(2)}\n",
    "\n",
    "# Collect samples\n",
    "for x in range(100):\n",
    "    flip = rng.integers(0,2) # Flip the coin\n",
    "    coin_dict[flip] += 1 # Increment value by one (heads or tails)"
   ]
  },
  {
   "cell_type": "code",
   "execution_count": 159,
   "metadata": {},
   "outputs": [
    {
     "data": {
      "image/png": "[encoded data removed]",
      "text/plain": [
       "<Figure size 576x396 with 1 Axes>"
      ]
     },
     "metadata": {},
     "output_type": "display_data"
    }
   ],
   "source": [
    "# Plot the counts of roll values\n",
    "plt.bar([\"Heads\", \"Tails\"], coin_dict.values())\n",
    "plt.title(\"Distribution of Coin Flips\");"
   ]
  },
  {
   "cell_type": "markdown",
   "metadata": {},
   "source": [
    "### Simulate Rolling a Dice\n",
    "\n",
    "![](https://external-content.duckduckgo.com/iu/?u=http%3A%2F%2Fbestanimations.com%2FGames%2FDice%2Frolling-dice-gif-11.gif&f=1&nofb=1.gif)"
   ]
  },
  {
   "cell_type": "code",
   "execution_count": 168,
   "metadata": {},
   "outputs": [],
   "source": [
    "# Simulating Rolling 2 Dice with random sampling\n",
    "\n",
    "# Create Dictionary to hold counts\n",
    "rolls_dict = {x:0 for x in range(2,13)}\n",
    "\n",
    "# Collect samples\n",
    "for x in range(10000):\n",
    "    roll_ls = np.array([]) # save rolls to this list before sum\n",
    "    \n",
    "    # Make 2 rolls and save results\n",
    "    for y in range(2):\n",
    "        roll = rng.integers(1,7)\n",
    "        roll_ls = np.append(roll_ls, roll)\n",
    "    \n",
    "    # Sum rolls and increment appropriate key by 1\n",
    "    sum_roll = np.sum(roll_ls)\n",
    "    rolls_dict[sum_roll] += 1"
   ]
  },
  {
   "cell_type": "code",
   "execution_count": 169,
   "metadata": {},
   "outputs": [
    {
     "data": {
      "image/png": "[encoded data removed]",
      "text/plain": [
       "<Figure size 576x396 with 1 Axes>"
      ]
     },
     "metadata": {},
     "output_type": "display_data"
    }
   ],
   "source": [
    "# Plot the counts of roll values\n",
    "plt.bar(rolls_dict.keys(), rolls_dict.values())\n",
    "plt.xticks(range(2,13))\n",
    "plt.title(\"Distribution of Rolls\");"
   ]
  },
  {
   "cell_type": "code",
   "execution_count": null,
   "metadata": {},
   "outputs": [],
   "source": []
  }
 ],
 "metadata": {
  "kernelspec": {
   "display_name": "Python 3",
   "language": "python",
   "name": "python3"
  },
  "language_info": {
   "codemirror_mode": {
    "name": "ipython",
    "version": 3
   },
   "file_extension": ".py",
   "mimetype": "text/x-python",
   "name": "python",
   "nbconvert_exporter": "python",
   "pygments_lexer": "ipython3",
   "version": "3.8.2"
  }
 },
 "nbformat": 4,
 "nbformat_minor": 4
}
