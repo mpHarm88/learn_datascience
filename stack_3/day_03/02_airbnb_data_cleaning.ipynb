{
  "nbformat": 4,
  "nbformat_minor": 0,
  "metadata": {
    "kernelspec": {
      "display_name": "Python 3",
      "language": "python",
      "name": "python3"
    },
    "language_info": {
      "codemirror_mode": {
        "name": "ipython",
        "version": 3
      },
      "file_extension": ".py",
      "mimetype": "text/x-python",
      "name": "python",
      "nbconvert_exporter": "python",
      "pygments_lexer": "ipython3",
      "version": "3.7.9"
    },
    "colab": {
      "name": "02_airbnb_data_cleaning.ipynb",
      "provenance": [],
      "include_colab_link": true
    }
  },
  "cells": [
    {
      "cell_type": "markdown",
      "metadata": {
        "id": "view-in-github",
        "colab_type": "text"
      },
      "source": [
        "<a href=\"https://colab.research.google.com/github/gumdropsteve/intro_to_python/blob/main/day_03/02_airbnb_data_cleaning.ipynb\" target=\"_parent\"><img src=\"https://colab.research.google.com/assets/colab-badge.svg\" alt=\"Open In Colab\"/></a>"
      ]
    },
    {
      "cell_type": "code",
      "metadata": {
        "id": "mD0hS6UQIB9A",
        "outputId": "db75c4aa-db3e-427d-b7ad-105fe4f9268d"
      },
      "source": [
        "import pandas as pd\n",
        "\n",
        "# anchorage_entire_homes_2021-01-04.csv\n",
        "df = pd.read_csv('https://github.com/gumdropsteve/intro_to_python/raw/main/day_03/anchorage_entire_homes_2021-01-04.csv')\n",
        "\n",
        "# give me a link\n",
        "df['a'][0]"
      ],
      "execution_count": null,
      "outputs": [
        {
          "output_type": "execute_result",
          "data": {
            "text/plain": [
              "'https://airbnb.com/rooms/17048600'"
            ]
          },
          "metadata": {
            "tags": []
          },
          "execution_count": 2
        }
      ]
    },
    {
      "cell_type": "code",
      "metadata": {
        "id": "f9SydSg5IB9S",
        "outputId": "4bf4b371-c126-4eef-9637-92d2baf0e198"
      },
      "source": [
        "# look for similar columns (we want to extract data)\n",
        "df.head()"
      ],
      "execution_count": null,
      "outputs": [
        {
          "output_type": "execute_result",
          "data": {
            "text/html": [
              "<div>\n",
              "<style scoped>\n",
              "    .dataframe tbody tr th:only-of-type {\n",
              "        vertical-align: middle;\n",
              "    }\n",
              "\n",
              "    .dataframe tbody tr th {\n",
              "        vertical-align: top;\n",
              "    }\n",
              "\n",
              "    .dataframe thead th {\n",
              "        text-align: right;\n",
              "    }\n",
              "</style>\n",
              "<table border=\"1\" class=\"dataframe\">\n",
              "  <thead>\n",
              "    <tr style=\"text-align: right;\">\n",
              "      <th></th>\n",
              "      <th>a</th>\n",
              "      <th>b</th>\n",
              "      <th>c</th>\n",
              "      <th>d</th>\n",
              "      <th>e</th>\n",
              "      <th>f</th>\n",
              "      <th>g</th>\n",
              "      <th>h</th>\n",
              "    </tr>\n",
              "  </thead>\n",
              "  <tbody>\n",
              "    <tr>\n",
              "      <th>0</th>\n",
              "      <td>https://airbnb.com/rooms/17048600</td>\n",
              "      <td>Snow City Hideaway // DOWNTOWN with Ocean View...</td>\n",
              "      <td>Entire apartment in Anchorage</td>\n",
              "      <td>4 guests · 1 bedroom · 2 beds · 1 bath</td>\n",
              "      <td>$60 / night</td>\n",
              "      <td>Wifi·Waterfront·Selfcheck-in·Petsallowed</td>\n",
              "      <td>Rating 4.67 out of 5;4.67333 reviews (333)</td>\n",
              "      <td>333 reviews</td>\n",
              "    </tr>\n",
              "    <tr>\n",
              "      <th>1</th>\n",
              "      <td>https://airbnb.com/rooms/33995587</td>\n",
              "      <td>Umed room 4 - null - Anchorage</td>\n",
              "      <td>Private room in Anchorage</td>\n",
              "      <td>2 guests · 1 bedroom · 1 bed · 1 shared bath</td>\n",
              "      <td>$20 / night</td>\n",
              "      <td>Wifi·Selfcheck-in·Kitchen·Indoorfireplace</td>\n",
              "      <td>Rating 5.0 out of 5;5.09 reviews (9)</td>\n",
              "      <td>9 reviews</td>\n",
              "    </tr>\n",
              "    <tr>\n",
              "      <th>2</th>\n",
              "      <td>https://airbnb.com/rooms/47354632</td>\n",
              "      <td>South Anchorage Studio Suite- Fox Den - null -...</td>\n",
              "      <td>Entire apartment in Anchorage</td>\n",
              "      <td>2 guests · Studio · 1 bed · 1 bath</td>\n",
              "      <td>$76 / night</td>\n",
              "      <td>Wifi·Kitchen·Dryer·Washer</td>\n",
              "      <td>NaN</td>\n",
              "      <td>NaN</td>\n",
              "    </tr>\n",
              "    <tr>\n",
              "      <th>3</th>\n",
              "      <td>https://airbnb.com/rooms/33072454</td>\n",
              "      <td>&gt; UPSCALE Cottage / Central to DOWNTOWN &amp; Trai...</td>\n",
              "      <td>Entire house in Anchorage</td>\n",
              "      <td>4 guests · 1 bedroom · 2 beds · 1 bath</td>\n",
              "      <td>$65 / night</td>\n",
              "      <td>Wifi·Selfcheck-in·Kitchen·Dryer</td>\n",
              "      <td>Rating 4.90 out of 5;4.90150 reviews (150)</td>\n",
              "      <td>150 reviews</td>\n",
              "    </tr>\n",
              "    <tr>\n",
              "      <th>4</th>\n",
              "      <td>https://airbnb.com/rooms/36774364</td>\n",
              "      <td>Midtown - Cozy Studio!  Travel Nurse Housing! ...</td>\n",
              "      <td>Entire guest suite in Anchorage</td>\n",
              "      <td>2 guests · Studio · 1 bed · 1 bath</td>\n",
              "      <td>$55 / night</td>\n",
              "      <td>Wifi·Breakfast·Ski-in/Ski-out·Selfcheck-in</td>\n",
              "      <td>Rating 5.0 out of 5;5.025 reviews (25)</td>\n",
              "      <td>25 reviews</td>\n",
              "    </tr>\n",
              "  </tbody>\n",
              "</table>\n",
              "</div>"
            ],
            "text/plain": [
              "                                   a  \\\n",
              "0  https://airbnb.com/rooms/17048600   \n",
              "1  https://airbnb.com/rooms/33995587   \n",
              "2  https://airbnb.com/rooms/47354632   \n",
              "3  https://airbnb.com/rooms/33072454   \n",
              "4  https://airbnb.com/rooms/36774364   \n",
              "\n",
              "                                                   b  \\\n",
              "0  Snow City Hideaway // DOWNTOWN with Ocean View...   \n",
              "1                     Umed room 4 - null - Anchorage   \n",
              "2  South Anchorage Studio Suite- Fox Den - null -...   \n",
              "3  > UPSCALE Cottage / Central to DOWNTOWN & Trai...   \n",
              "4  Midtown - Cozy Studio!  Travel Nurse Housing! ...   \n",
              "\n",
              "                                 c  \\\n",
              "0    Entire apartment in Anchorage   \n",
              "1        Private room in Anchorage   \n",
              "2    Entire apartment in Anchorage   \n",
              "3        Entire house in Anchorage   \n",
              "4  Entire guest suite in Anchorage   \n",
              "\n",
              "                                              d            e  \\\n",
              "0        4 guests · 1 bedroom · 2 beds · 1 bath  $60 / night   \n",
              "1  2 guests · 1 bedroom · 1 bed · 1 shared bath  $20 / night   \n",
              "2            2 guests · Studio · 1 bed · 1 bath  $76 / night   \n",
              "3        4 guests · 1 bedroom · 2 beds · 1 bath  $65 / night   \n",
              "4            2 guests · Studio · 1 bed · 1 bath  $55 / night   \n",
              "\n",
              "                                            f  \\\n",
              "0    Wifi·Waterfront·Selfcheck-in·Petsallowed   \n",
              "1   Wifi·Selfcheck-in·Kitchen·Indoorfireplace   \n",
              "2                   Wifi·Kitchen·Dryer·Washer   \n",
              "3             Wifi·Selfcheck-in·Kitchen·Dryer   \n",
              "4  Wifi·Breakfast·Ski-in/Ski-out·Selfcheck-in   \n",
              "\n",
              "                                            g            h  \n",
              "0  Rating 4.67 out of 5;4.67333 reviews (333)  333 reviews  \n",
              "1        Rating 5.0 out of 5;5.09 reviews (9)    9 reviews  \n",
              "2                                         NaN          NaN  \n",
              "3  Rating 4.90 out of 5;4.90150 reviews (150)  150 reviews  \n",
              "4      Rating 5.0 out of 5;5.025 reviews (25)   25 reviews  "
            ]
          },
          "metadata": {
            "tags": []
          },
          "execution_count": 7
        }
      ]
    },
    {
      "cell_type": "code",
      "metadata": {
        "id": "t4Env_52IB9T",
        "outputId": "59470734-fcd5-4b3f-c89e-97e0a2729428"
      },
      "source": [
        "# the price column looks like it follows a similar format \n",
        "df['e'].head()"
      ],
      "execution_count": null,
      "outputs": [
        {
          "output_type": "execute_result",
          "data": {
            "text/plain": [
              "0    $60 / night\n",
              "1    $20 / night\n",
              "2    $76 / night\n",
              "3    $65 / night\n",
              "4    $55 / night\n",
              "Name: e, dtype: object"
            ]
          },
          "metadata": {
            "tags": []
          },
          "execution_count": 8
        }
      ]
    },
    {
      "cell_type": "code",
      "metadata": {
        "id": "pICTxAnrIB9Y",
        "outputId": "248f2c46-b251-4dce-bd07-cf3bf7ee5f4d"
      },
      "source": [
        "# ${what we want} / night\n",
        "type(df['e'][0])"
      ],
      "execution_count": null,
      "outputs": [
        {
          "output_type": "execute_result",
          "data": {
            "text/plain": [
              "str"
            ]
          },
          "metadata": {
            "tags": []
          },
          "execution_count": 10
        }
      ]
    },
    {
      "cell_type": "code",
      "metadata": {
        "id": "xhg_uXaFIB9f",
        "outputId": "fb03c30d-6eaa-40ce-a503-08f5d7f6f5d2"
      },
      "source": [
        "df['e'][0]"
      ],
      "execution_count": null,
      "outputs": [
        {
          "output_type": "execute_result",
          "data": {
            "text/plain": [
              "'$60 / night'"
            ]
          },
          "metadata": {
            "tags": []
          },
          "execution_count": 11
        }
      ]
    },
    {
      "cell_type": "code",
      "metadata": {
        "id": "nHp6ucp-IB9h",
        "outputId": "4385b33d-96ff-4303-ae77-0693eea8e063"
      },
      "source": [
        "first_value = df['e'][0]\n",
        "\n",
        "# first_value.split(\" \")[0]\n",
        "\n",
        "float(first_value.split(\" \")[0][1:])  # took this and added it to base code"
      ],
      "execution_count": null,
      "outputs": [
        {
          "output_type": "execute_result",
          "data": {
            "text/plain": [
              "60.0"
            ]
          },
          "metadata": {
            "tags": []
          },
          "execution_count": 25
        }
      ]
    },
    {
      "cell_type": "code",
      "metadata": {
        "id": "nVAWJelEIB9j"
      },
      "source": [
        "# old\n",
        "def get_room_price(listing):\n",
        "    \"\"\"\n",
        "    returns the nightly rate (price) of given listing\n",
        "    \"\"\"\n",
        "    price_text = listing.find('div', {'class':'_ls0e43'}).text\n",
        "    price = price_text.split('Price:')\n",
        "    return price[1]"
      ],
      "execution_count": null,
      "outputs": []
    },
    {
      "cell_type": "code",
      "metadata": {
        "id": "n4xYGm7_IB9l",
        "outputId": "90df4b4d-3167-4c61-944c-29f54494d109"
      },
      "source": [
        "# new (now returns float value of price per night)\n",
        "def get_room_price(listing):\n",
        "    \"\"\"\n",
        "    returns the nightly rate (price) of given listing\n",
        "    \"\"\"\n",
        "    price_text = listing.find('div', {'class':'_ls0e43'}).text\n",
        "    price = price_text.split('Price:')\n",
        "    price = price[1]\n",
        "    price = price.split(\" \")[0][1:]  # skip the $\n",
        "    return price"
      ],
      "execution_count": null,
      "outputs": [
        {
          "output_type": "execute_result",
          "data": {
            "text/plain": [
              "'$60 / night'"
            ]
          },
          "metadata": {
            "tags": []
          },
          "execution_count": 18
        }
      ]
    },
    {
      "cell_type": "markdown",
      "metadata": {
        "id": "EC8v_cvpIB9p"
      },
      "source": [
        "## Extracting Reviews\n",
        "```\n",
        "Rating 4.67 out of 5;4.67333 reviews (333)\n",
        "```"
      ]
    },
    {
      "cell_type": "code",
      "metadata": {
        "id": "-SuALhDcIB9s",
        "outputId": "c1b9bad0-ea00-4d3c-c679-fd01d06c7821"
      },
      "source": [
        "df['g'][0]"
      ],
      "execution_count": null,
      "outputs": [
        {
          "output_type": "execute_result",
          "data": {
            "text/plain": [
              "'Rating 4.67 out of 5;4.67333 reviews\\xa0(333)'"
            ]
          },
          "metadata": {
            "tags": []
          },
          "execution_count": 28
        }
      ]
    },
    {
      "cell_type": "code",
      "metadata": {
        "id": "SAbRaKeVIB9w",
        "outputId": "c03379bf-8cad-4d86-82d0-90d80876beb6"
      },
      "source": [
        "type(df['g'][0])"
      ],
      "execution_count": null,
      "outputs": [
        {
          "output_type": "execute_result",
          "data": {
            "text/plain": [
              "str"
            ]
          },
          "metadata": {
            "tags": []
          },
          "execution_count": 29
        }
      ]
    },
    {
      "cell_type": "code",
      "metadata": {
        "id": "bRDg9oiwIB90",
        "outputId": "ec48c675-349e-462f-8b8b-5da1ff56cb0c"
      },
      "source": [
        "df['g'].head()"
      ],
      "execution_count": null,
      "outputs": [
        {
          "output_type": "execute_result",
          "data": {
            "text/plain": [
              "0    Rating 4.67 out of 5;4.67333 reviews (333)\n",
              "1          Rating 5.0 out of 5;5.09 reviews (9)\n",
              "2                                           NaN\n",
              "3    Rating 4.90 out of 5;4.90150 reviews (150)\n",
              "4        Rating 5.0 out of 5;5.025 reviews (25)\n",
              "Name: g, dtype: object"
            ]
          },
          "metadata": {
            "tags": []
          },
          "execution_count": 30
        }
      ]
    },
    {
      "cell_type": "code",
      "metadata": {
        "id": "CB3RMJsSIB94",
        "outputId": "df5a138b-3a18-4264-c815-daac7c2b6298"
      },
      "source": [
        "df['g'].tail()"
      ],
      "execution_count": null,
      "outputs": [
        {
          "output_type": "execute_result",
          "data": {
            "text/plain": [
              "295    Rating 4.94 out of 5;4.9435 reviews (35)\n",
              "296    Rating 4.76 out of 5;4.7634 reviews (34)\n",
              "297    Rating 4.96 out of 5;4.9624 reviews (24)\n",
              "298      Rating 5.0 out of 5;5.020 reviews (20)\n",
              "299        Rating 5.0 out of 5;5.04 reviews (4)\n",
              "Name: g, dtype: object"
            ]
          },
          "metadata": {
            "tags": []
          },
          "execution_count": 31
        }
      ]
    },
    {
      "cell_type": "code",
      "metadata": {
        "id": "ySz242_sIB97",
        "outputId": "5809c1c2-b590-4f0e-f859-c7558bac1a6a"
      },
      "source": [
        "df['g'][0].split(';')"
      ],
      "execution_count": null,
      "outputs": [
        {
          "output_type": "execute_result",
          "data": {
            "text/plain": [
              "['Rating 4.67 out of 5', '4.67333 reviews\\xa0(333)']"
            ]
          },
          "metadata": {
            "tags": []
          },
          "execution_count": 33
        }
      ]
    },
    {
      "cell_type": "code",
      "metadata": {
        "id": "Ogaz-D02IB97",
        "outputId": "df2f6866-7604-490a-9a9e-34c75b2046e7"
      },
      "source": [
        "# check string logic (to make sure it looks how you wanted)\n",
        "'out of 5' in df['g'][0].split(';')[0]  # not going to do this now, just something to think about"
      ],
      "execution_count": null,
      "outputs": [
        {
          "output_type": "execute_result",
          "data": {
            "text/plain": [
              "True"
            ]
          },
          "metadata": {
            "tags": []
          },
          "execution_count": 35
        }
      ]
    },
    {
      "cell_type": "code",
      "metadata": {
        "id": "EJ1RXsHTIB99",
        "outputId": "f010a762-35c8-40ec-e42d-0f84dd9636ad"
      },
      "source": [
        "df['g'][0].split(';')[1]"
      ],
      "execution_count": null,
      "outputs": [
        {
          "output_type": "execute_result",
          "data": {
            "text/plain": [
              "'4.67333 reviews\\xa0(333)'"
            ]
          },
          "metadata": {
            "tags": []
          },
          "execution_count": 36
        }
      ]
    },
    {
      "cell_type": "code",
      "metadata": {
        "id": "3NdDRm_3IB9-",
        "outputId": "b345f26a-934c-4b55-affa-c116779aaa47"
      },
      "source": [
        "right_side = df['g'][0].split(';')[1]\n",
        "\n",
        "right_split = right_side.split(' ')\n",
        "\n",
        "right_split"
      ],
      "execution_count": null,
      "outputs": [
        {
          "output_type": "execute_result",
          "data": {
            "text/plain": [
              "['4.67333', 'reviews\\xa0(333)']"
            ]
          },
          "metadata": {
            "tags": []
          },
          "execution_count": 39
        }
      ]
    },
    {
      "cell_type": "code",
      "metadata": {
        "id": "_lZHStF5IB9-",
        "outputId": "8313e276-a927-483e-9a7b-66c88a069ff5"
      },
      "source": [
        "detailed_score = right_split[0]\n",
        "\n",
        "detailed_score = float(detailed_score)\n",
        "\n",
        "detailed_score"
      ],
      "execution_count": null,
      "outputs": [
        {
          "output_type": "execute_result",
          "data": {
            "text/plain": [
              "4.67333"
            ]
          },
          "metadata": {
            "tags": []
          },
          "execution_count": 42
        }
      ]
    },
    {
      "cell_type": "code",
      "metadata": {
        "id": "cAVq1juEIB9_",
        "outputId": "871b6e4c-fb20-4ffd-d83d-d4e13342764c"
      },
      "source": [
        "number_of_reviews = right_split[1]\n",
        "\n",
        "# just a precaution\n",
        "number_of_reviews = number_of_reviews.strip()\n",
        "\n",
        "number_of_reviews = number_of_reviews[:-1]\n",
        "\n",
        "number_of_reviews = number_of_reviews.split('(')\n",
        "\n",
        "number_of_reviews"
      ],
      "execution_count": null,
      "outputs": [
        {
          "output_type": "execute_result",
          "data": {
            "text/plain": [
              "['reviews\\xa0', '333']"
            ]
          },
          "metadata": {
            "tags": []
          },
          "execution_count": 48
        }
      ]
    },
    {
      "cell_type": "code",
      "metadata": {
        "id": "Z4tM5qXCIB-A",
        "outputId": "6c9966b7-ad86-4c24-8780-a40423cef852"
      },
      "source": [
        "number_of_reviews = number_of_reviews[1]\n",
        "\n",
        "number_of_reviews = int(number_of_reviews)\n",
        "\n",
        "number_of_reviews"
      ],
      "execution_count": null,
      "outputs": [
        {
          "output_type": "execute_result",
          "data": {
            "text/plain": [
              "333"
            ]
          },
          "metadata": {
            "tags": []
          },
          "execution_count": 49
        }
      ]
    },
    {
      "cell_type": "markdown",
      "metadata": {
        "id": "VUO-H7RHIB-B"
      },
      "source": [
        "All together"
      ]
    },
    {
      "cell_type": "code",
      "metadata": {
        "id": "aBkS_8nwIB-B",
        "outputId": "00ee7e5e-b5be-4b62-d8b9-3b4cb8f11a6b"
      },
      "source": [
        "df['g'][0]"
      ],
      "execution_count": null,
      "outputs": [
        {
          "output_type": "execute_result",
          "data": {
            "text/plain": [
              "'Rating 4.67 out of 5;4.67333 reviews\\xa0(333)'"
            ]
          },
          "metadata": {
            "tags": []
          },
          "execution_count": 52
        }
      ]
    },
    {
      "cell_type": "code",
      "metadata": {
        "id": "eX8qlVMXIB-B",
        "outputId": "b1ad42b1-c0d9-411c-eb09-4a67d03ac660"
      },
      "source": [
        "data = df['g'][0]\n",
        "\n",
        "right_side = data.split(';')[1]\n",
        "\n",
        "right_split = right_side.split(' ')\n",
        "\n",
        "# find the detailed average review score (x.xxxxx)\n",
        "detailed_score = right_split[0]\n",
        "detailed_score = float(detailed_score)\n",
        "\n",
        "# find the number of reviews\n",
        "number_of_reviews = right_split[1]\n",
        "number_of_reviews = number_of_reviews.strip()  # just a precaution\n",
        "number_of_reviews = number_of_reviews[:-1]\n",
        "number_of_reviews = number_of_reviews.split('(')\n",
        "number_of_reviews = number_of_reviews[1]\n",
        "number_of_reviews = int(number_of_reviews)\n",
        "\n",
        "\n",
        "# did it work?\n",
        "detailed_score, number_of_reviews"
      ],
      "execution_count": null,
      "outputs": [
        {
          "output_type": "execute_result",
          "data": {
            "text/plain": [
              "(4.67333, 333)"
            ]
          },
          "metadata": {
            "tags": []
          },
          "execution_count": 53
        }
      ]
    },
    {
      "cell_type": "code",
      "metadata": {
        "id": "aFJj8G1AIB-C"
      },
      "source": [
        "# before\n",
        "def get_n_reviews(listing):\n",
        "    '''\n",
        "    Returns the number of reviews\n",
        "    '''\n",
        "    try:  # Not all listings have reviews // extraction failed\n",
        "        output = listing.findAll(\"span\", {\"class\":\"_krjbj\"})[1].text\n",
        "    except:\n",
        "        output = None   # Indicate that the extraction failed -> can indicate no reviews or a mistake in scraping\n",
        "    return output"
      ],
      "execution_count": null,
      "outputs": []
    },
    {
      "cell_type": "code",
      "metadata": {
        "id": "AHKTxyt4IB-C"
      },
      "source": [
        "# after\n",
        "def get_n_reviews(listing):\n",
        "    '''\n",
        "    Returns the number of reviews\n",
        "    '''\n",
        "    try:\n",
        "        output = listing.findAll(\"span\", {\"class\":\"_krjbj\"})[1].text\n",
        "        \n",
        "        # focus the right side of the data\n",
        "        right_side = output.split(';')[1]\n",
        "        right_split = right_side.split(' ')\n",
        "\n",
        "        # find the detailed average review score (x.xxxxx)\n",
        "        detailed_score = right_split[0]\n",
        "        detailed_score = float(detailed_score)\n",
        "\n",
        "        # find the number of reviews\n",
        "        number_of_reviews = right_split[1]\n",
        "        number_of_reviews = number_of_reviews.strip()  # just a precaution\n",
        "        number_of_reviews = number_of_reviews[:-1]\n",
        "        number_of_reviews = number_of_reviews.split('(')\n",
        "        number_of_reviews = number_of_reviews[1]\n",
        "        number_of_reviews = int(number_of_reviews)\n",
        "        \n",
        "        output = (detailed_score, number_of_reviews)\n",
        "        \n",
        "    # Not all listings have reviews // extraction failed\n",
        "    except:\n",
        "        output = None   # Indicate that the extraction failed -> can indicate no reviews or a mistake in scraping\n",
        "    return output"
      ],
      "execution_count": null,
      "outputs": []
    }
  ]
}