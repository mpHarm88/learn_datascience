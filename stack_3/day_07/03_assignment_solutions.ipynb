{
  "nbformat": 4,
  "nbformat_minor": 0,
  "metadata": {
    "colab": {
      "name": "03_assignment_solutions.ipynb",
      "provenance": [],
      "authorship_tag": "ABX9TyOi1wXDFpZZ0xkalt4ty7T8",
      "include_colab_link": true
    },
    "kernelspec": {
      "name": "python3",
      "display_name": "Python 3"
    }
  },
  "cells": [
    {
      "cell_type": "markdown",
      "metadata": {
        "id": "view-in-github",
        "colab_type": "text"
      },
      "source": [
        "<a href=\"https://colab.research.google.com/github/gumdropsteve/intro_to_python/blob/main/day_07/03_assignment_solutions.ipynb\" target=\"_parent\"><img src=\"https://colab.research.google.com/assets/colab-badge.svg\" alt=\"Open In Colab\"/></a>"
      ]
    },
    {
      "cell_type": "markdown",
      "metadata": {
        "id": "xdIugRuOpAjz"
      },
      "source": [
        "# Company\r\n",
        "https://github.com/gumdropsteve/intro_to_python/blob/main/day_07/02_assignment.md#1-lets-build-a-company-class-used-to-represent-some-company-riyadh-tea-co-chick-fil-a-chipotle-etc"
      ]
    },
    {
      "cell_type": "code",
      "metadata": {
        "id": "A_We7mxIo_tE"
      },
      "source": [
        "class Company(): \r\n",
        "    \"\"\"\r\n",
        "    This docstring will describe how to interact with the Company class. \r\n",
        "\r\n",
        "    The company class will have attributes that are standard to a company, \r\n",
        "    and methods that interact with a couple of those attributes. \r\n",
        "\r\n",
        "    Parameters\r\n",
        "    ----------\r\n",
        "        name: str\r\n",
        "            Holds the company name. \r\n",
        "        industry_type: str\r\n",
        "            Holds what industry the company belongs to. \r\n",
        "        num_employees: int\r\n",
        "        total_revenue - float\r\n",
        "    \"\"\"\r\n",
        "\r\n",
        "    def __init__(self, name, industry_type, num_employees, total_revenue): \r\n",
        "        self.name = name\r\n",
        "        self.industry_type = industry_type\r\n",
        "        self.num_employees = num_employees\r\n",
        "        self.total_revenue = total_revenue\r\n",
        "\r\n",
        "    def serve_customer(self, cost): \r\n",
        "        \"\"\"\r\n",
        "        Adjusts the company's total_revenue by the cost required \r\n",
        "        to serve a customer. \r\n",
        "\r\n",
        "        Args: \r\n",
        "            cost: float\r\n",
        "        \"\"\"\r\n",
        "\r\n",
        "        self.total_revenue += cost \r\n",
        "\r\n",
        "    def gain_employees(self, new_employee_lst): \r\n",
        "        \"\"\"\r\n",
        "        Adjusts the company's num_employees to account for new employees. \r\n",
        "\r\n",
        "        Args: \r\n",
        "            new_employee_lst: list \r\n",
        "        \"\"\"\r\n",
        "        self.num_employees += len(new_employee_lst)"
      ],
      "execution_count": null,
      "outputs": []
    },
    {
      "cell_type": "markdown",
      "metadata": {
        "id": "dVctZ0GSpFO3"
      },
      "source": [
        "# TV\r\n",
        "https://github.com/gumdropsteve/intro_to_python/blob/main/day_07/02_assignment.md#2-lets-build-a-tv-class-used-to-represent-a-television"
      ]
    },
    {
      "cell_type": "code",
      "metadata": {
        "id": "MT4Ygy9GpFcV"
      },
      "source": [
        "class Television():\r\n",
        "\r\n",
        "    def __init__(self, brand, on_status=False,\r\n",
        "            current_channel=0, life_perc=100.0):\r\n",
        "        self.brand = brand\r\n",
        "        self.on_status = on_status\r\n",
        "        self.current_channel = current_channel\r\n",
        "        self.life_perc = life_perc\r\n",
        "\r\n",
        "    def hit_power(self):\r\n",
        "        \"\"\"\r\n",
        "        Switches the television either on or off.\r\n",
        "        \"\"\"\r\n",
        "        # This simply switches the self.on_status to the\r\n",
        "        # opposite of what it currently is (True to False, and\r\n",
        "        # vice versa).\r\n",
        "        self.on_status = not self.on_status\r\n",
        "\r\n",
        "        if not self.on_status:\r\n",
        "            self.current_channel = 0\r\n",
        "            self.life_perc -= 0.01\r\n",
        "\r\n",
        "    def change_channel(self, channel_num):\r\n",
        "        \"\"\"\r\n",
        "        Change the channel of the television to the inputted channel.\r\n",
        "\r\n",
        "        Args:\r\n",
        "            channel_num: int\r\n",
        "        \"\"\"\r\n",
        "\r\n",
        "        if self.on_status:\r\n",
        "            self.current_channel = channel_num\r\n",
        "        else:\r\n",
        "            print('Television is not on!')"
      ],
      "execution_count": null,
      "outputs": []
    }
  ]
}