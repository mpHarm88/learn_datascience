{
  "nbformat": 4,
  "nbformat_minor": 0,
  "metadata": {
    "colab": {
      "name": "02_assignment.ipynb",
      "provenance": [],
      "authorship_tag": "ABX9TyNnAhLpP3njlAUSecWGyBiA",
      "include_colab_link": true
    },
    "kernelspec": {
      "name": "python3",
      "display_name": "Python 3"
    }
  },
  "cells": [
    {
      "cell_type": "markdown",
      "metadata": {
        "id": "view-in-github",
        "colab_type": "text"
      },
      "source": [
        "<a href=\"https://colab.research.google.com/github/gumdropsteve/intro_to_machine_learning/blob/main/day_07/02_assignment.ipynb\" target=\"_parent\"><img src=\"https://colab.research.google.com/assets/colab-badge.svg\" alt=\"Open In Colab\"/></a>"
      ]
    },
    {
      "cell_type": "markdown",
      "metadata": {
        "id": "93NOZbbEHw0X"
      },
      "source": [
        "# Logistic Regression Assignment\r\n",
        "\r\n",
        "#### Dataset Options\r\n",
        "1. Dog or horse\r\n",
        "    - `https://github.com/gumdropsteve/datasets/raw/master/dog_or_horse.csv`\r\n",
        "    - Note: target variable is `target`.\r\n",
        "2. Customer Churn\r\n",
        "    - `https://github.com/gumdropsteve/intro_to_machine_learning/raw/main/day_05/data/churn_data.csv`\r\n",
        "    - [Data dict](https://docs.google.com/document/d/1SxzoPHWxoLHx_kiPTZEzZOoda2chHbHLdMGAFsGIqCY/edit?usp=sharing)\r\n",
        "    - Note: target variable is `Churn`\r\n"
      ]
    },
    {
      "cell_type": "markdown",
      "metadata": {
        "id": "1-pAYZ79enXP"
      },
      "source": [
        "1. Load in your dataset through its CSV link."
      ]
    },
    {
      "cell_type": "code",
      "metadata": {
        "id": "5QYjsm9EHwTt"
      },
      "source": [
        ""
      ],
      "execution_count": null,
      "outputs": []
    },
    {
      "cell_type": "markdown",
      "metadata": {
        "id": "5vgZDwSEIDjF"
      },
      "source": [
        "2. Find out some information about the data..."
      ]
    },
    {
      "cell_type": "code",
      "metadata": {
        "id": "LdR4alSHIEFd"
      },
      "source": [
        ""
      ],
      "execution_count": null,
      "outputs": []
    },
    {
      "cell_type": "code",
      "metadata": {
        "id": "7CXr_Sx1ew9T"
      },
      "source": [
        ""
      ],
      "execution_count": null,
      "outputs": []
    },
    {
      "cell_type": "code",
      "metadata": {
        "id": "fADazPVWIFRu"
      },
      "source": [
        ""
      ],
      "execution_count": null,
      "outputs": []
    },
    {
      "cell_type": "markdown",
      "metadata": {
        "id": "4FsmeuGnIOYd"
      },
      "source": [
        "3. Show me the relationships in your data... \r\n",
        "- corr ([help](https://stackoverflow.com/a/50703596/11074111))\r\n",
        "- pariplot\r\n",
        "- some other visualization(s) (of your choice)"
      ]
    },
    {
      "cell_type": "code",
      "metadata": {
        "id": "hoW-M_ObIiqn"
      },
      "source": [
        ""
      ],
      "execution_count": null,
      "outputs": []
    },
    {
      "cell_type": "code",
      "metadata": {
        "id": "k8igHaRaIjMF"
      },
      "source": [
        ""
      ],
      "execution_count": null,
      "outputs": []
    },
    {
      "cell_type": "code",
      "metadata": {
        "id": "v0i8HnN6IjTs"
      },
      "source": [
        ""
      ],
      "execution_count": null,
      "outputs": []
    },
    {
      "cell_type": "markdown",
      "metadata": {
        "id": "9IhRygRcJBBy"
      },
      "source": [
        "4. Split your data into training and testing datasets..."
      ]
    },
    {
      "cell_type": "code",
      "metadata": {
        "id": "LAdc8dOSJEof"
      },
      "source": [
        ""
      ],
      "execution_count": null,
      "outputs": []
    },
    {
      "cell_type": "markdown",
      "metadata": {
        "id": "vAEzLu-7ItC5"
      },
      "source": [
        "5. Import, create, and fit a LogisticRegression model with 1 variable"
      ]
    },
    {
      "cell_type": "code",
      "metadata": {
        "id": "34aVrxcNIv4d"
      },
      "source": [
        ""
      ],
      "execution_count": null,
      "outputs": []
    },
    {
      "cell_type": "code",
      "metadata": {
        "id": "vwu1bH1_JK6V"
      },
      "source": [
        ""
      ],
      "execution_count": null,
      "outputs": []
    },
    {
      "cell_type": "markdown",
      "metadata": {
        "id": "C4jtgDpVIysR"
      },
      "source": [
        "6. Make predictions on your `X_test` values..."
      ]
    },
    {
      "cell_type": "code",
      "metadata": {
        "id": "6n7j9lyYJQhj"
      },
      "source": [
        ""
      ],
      "execution_count": null,
      "outputs": []
    },
    {
      "cell_type": "code",
      "metadata": {
        "id": "Yt0ohN6bJR9s"
      },
      "source": [
        "# what do they look like? (show me some of the predictions)\r\n"
      ],
      "execution_count": null,
      "outputs": []
    },
    {
      "cell_type": "markdown",
      "metadata": {
        "id": "0MH2sdLGJYGo"
      },
      "source": [
        "7. Score your model...\r\n",
        "- accuracy_score\r\n",
        "- confusion_matrix"
      ]
    },
    {
      "cell_type": "code",
      "metadata": {
        "id": "qzEn_dRzJW7z"
      },
      "source": [
        ""
      ],
      "execution_count": null,
      "outputs": []
    },
    {
      "cell_type": "code",
      "metadata": {
        "id": "eTgWdLT1JgFj"
      },
      "source": [
        ""
      ],
      "execution_count": null,
      "outputs": []
    },
    {
      "cell_type": "markdown",
      "metadata": {
        "id": "KDpe83ogJgg3"
      },
      "source": [
        "8. Create, and fit a LogisticRegression model with **more than** 1 variable"
      ]
    },
    {
      "cell_type": "code",
      "metadata": {
        "id": "ihXsRPtTJp7m"
      },
      "source": [
        ""
      ],
      "execution_count": null,
      "outputs": []
    },
    {
      "cell_type": "code",
      "metadata": {
        "id": "7q6mkOr6JsAk"
      },
      "source": [
        ""
      ],
      "execution_count": null,
      "outputs": []
    },
    {
      "cell_type": "markdown",
      "metadata": {
        "id": "SJCKwpNXJutC"
      },
      "source": [
        "9. Make predictions on your `X_test` values..."
      ]
    },
    {
      "cell_type": "code",
      "metadata": {
        "id": "IdGtbPJJJvjd"
      },
      "source": [
        ""
      ],
      "execution_count": null,
      "outputs": []
    },
    {
      "cell_type": "code",
      "metadata": {
        "id": "V8fRIPrqJzF5"
      },
      "source": [
        "# what do they look like? (show me some of the predictions)\r\n"
      ],
      "execution_count": null,
      "outputs": []
    },
    {
      "cell_type": "markdown",
      "metadata": {
        "id": "8rdbAft1JzZR"
      },
      "source": [
        "10. Score your model...\r\n",
        "- accuracy_score\r\n",
        "- confusion_matrix"
      ]
    },
    {
      "cell_type": "code",
      "metadata": {
        "id": "uQn0WPxbJ1wi"
      },
      "source": [
        ""
      ],
      "execution_count": null,
      "outputs": []
    },
    {
      "cell_type": "code",
      "metadata": {
        "id": "wGAaIzfaJ16p"
      },
      "source": [
        ""
      ],
      "execution_count": null,
      "outputs": []
    },
    {
      "cell_type": "markdown",
      "metadata": {
        "id": "mdnhA-_aJ2QG"
      },
      "source": [
        "11. Which model is better? Why?"
      ]
    },
    {
      "cell_type": "markdown",
      "metadata": {
        "id": "385yTrGvKJ2I"
      },
      "source": [
        "type your stuff here"
      ]
    },
    {
      "cell_type": "markdown",
      "metadata": {
        "id": "YXq7N9wPKISw"
      },
      "source": [
        "12. Perform GridSearchCV with the better data"
      ]
    },
    {
      "cell_type": "code",
      "metadata": {
        "id": "JQI1-xzHKZ5t"
      },
      "source": [
        ""
      ],
      "execution_count": null,
      "outputs": []
    },
    {
      "cell_type": "code",
      "metadata": {
        "id": "ZuD63G_ARo0U"
      },
      "source": [
        ""
      ],
      "execution_count": null,
      "outputs": []
    },
    {
      "cell_type": "code",
      "metadata": {
        "id": "rkVFXnrORpMN"
      },
      "source": [
        ""
      ],
      "execution_count": null,
      "outputs": []
    },
    {
      "cell_type": "markdown",
      "metadata": {
        "id": "OkFfmndgKagk"
      },
      "source": [
        "13. Update the hyperparameters of your model (create and fit a new model with the results of GridSerachCV)"
      ]
    },
    {
      "cell_type": "code",
      "metadata": {
        "id": "tMbtfYrsKg7u"
      },
      "source": [
        ""
      ],
      "execution_count": null,
      "outputs": []
    },
    {
      "cell_type": "code",
      "metadata": {
        "id": "ZuYB-9_qKh2o"
      },
      "source": [
        ""
      ],
      "execution_count": null,
      "outputs": []
    },
    {
      "cell_type": "markdown",
      "metadata": {
        "id": "RTih62jiKhHd"
      },
      "source": [
        "14. Score the new model... \r\n",
        "- r2_score\r\n",
        "- some other metric of your choice"
      ]
    },
    {
      "cell_type": "code",
      "metadata": {
        "id": "bHglwkVGKkW7"
      },
      "source": [
        ""
      ],
      "execution_count": null,
      "outputs": []
    },
    {
      "cell_type": "code",
      "metadata": {
        "id": "AgsbHIhqKoQr"
      },
      "source": [
        ""
      ],
      "execution_count": null,
      "outputs": []
    },
    {
      "cell_type": "markdown",
      "metadata": {
        "id": "c3uY8_MnKpXQ"
      },
      "source": [
        "Did the score change at all? Why?"
      ]
    },
    {
      "cell_type": "markdown",
      "metadata": {
        "id": "8xeiVnQSKtYa"
      },
      "source": [
        "your stuff here"
      ]
    },
    {
      "cell_type": "markdown",
      "metadata": {
        "id": "0ja0rEIVe10m"
      },
      "source": [
        "## Bonus\r\n",
        "Set up a SGDClassifier, score it, etc... https://scikit-learn.org/stable/modules/generated/sklearn.linear_model.SGDClassifier.html\r\n",
        "\r\n",
        "Note: you may need more or less code cells, but here's 5."
      ]
    },
    {
      "cell_type": "code",
      "metadata": {
        "id": "cG-tnAtJe3pn"
      },
      "source": [
        ""
      ],
      "execution_count": null,
      "outputs": []
    },
    {
      "cell_type": "code",
      "metadata": {
        "id": "lC9SRnnXe_Z1"
      },
      "source": [
        ""
      ],
      "execution_count": null,
      "outputs": []
    },
    {
      "cell_type": "code",
      "metadata": {
        "id": "hAA4mqNle_ga"
      },
      "source": [
        ""
      ],
      "execution_count": null,
      "outputs": []
    },
    {
      "cell_type": "code",
      "metadata": {
        "id": "JEVNl-ISe_kV"
      },
      "source": [
        ""
      ],
      "execution_count": null,
      "outputs": []
    },
    {
      "cell_type": "code",
      "metadata": {
        "id": "u08Q2TKTfAHM"
      },
      "source": [
        ""
      ],
      "execution_count": null,
      "outputs": []
    }
  ]
}