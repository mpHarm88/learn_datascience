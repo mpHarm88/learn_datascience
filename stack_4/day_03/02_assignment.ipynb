{
  "nbformat": 4,
  "nbformat_minor": 0,
  "metadata": {
    "colab": {
      "name": "02_assignment.ipynb",
      "provenance": [],
      "authorship_tag": "ABX9TyNMw2fb88HrIiNiQg/kHT7Y",
      "include_colab_link": true
    },
    "kernelspec": {
      "name": "python3",
      "display_name": "Python 3"
    }
  },
  "cells": [
    {
      "cell_type": "markdown",
      "metadata": {
        "id": "view-in-github",
        "colab_type": "text"
      },
      "source": [
        "<a href=\"https://colab.research.google.com/github/gumdropsteve/intro_to_machine_learning/blob/main/day_03/02_assignment.ipynb\" target=\"_parent\"><img src=\"https://colab.research.google.com/assets/colab-badge.svg\" alt=\"Open In Colab\"/></a>"
      ]
    },
    {
      "cell_type": "markdown",
      "metadata": {
        "id": "UvXvsdh1UViv"
      },
      "source": [
        "1. Read in the dataset from the below link with pandas..."
      ]
    },
    {
      "cell_type": "code",
      "metadata": {
        "id": "xHi7ek_dURBw"
      },
      "source": [
        "link = \"https://raw.githubusercontent.com/gumdropsteve/datasets/master/dog_or_horse.csv\"\r\n"
      ],
      "execution_count": null,
      "outputs": []
    },
    {
      "cell_type": "markdown",
      "metadata": {
        "id": "zK5QLawkUbGO"
      },
      "source": [
        "2. Show me some of the data..."
      ]
    },
    {
      "cell_type": "code",
      "metadata": {
        "id": "-D-9M-1CUhD9"
      },
      "source": [
        ""
      ],
      "execution_count": null,
      "outputs": []
    },
    {
      "cell_type": "code",
      "metadata": {
        "id": "gv96u_cvXjna"
      },
      "source": [
        ""
      ],
      "execution_count": null,
      "outputs": []
    },
    {
      "cell_type": "markdown",
      "metadata": {
        "id": "p5ypbPmpUhsJ"
      },
      "source": [
        "3. Split the data into training and testing sets ([Help](https://scikit-learn.org/stable/modules/generated/sklearn.model_selection.train_test_split.html))"
      ]
    },
    {
      "cell_type": "code",
      "metadata": {
        "id": "kq-_ChbeUwgb"
      },
      "source": [
        ""
      ],
      "execution_count": null,
      "outputs": []
    },
    {
      "cell_type": "markdown",
      "metadata": {
        "id": "QT8_kZqKU4aR"
      },
      "source": [
        "4. Make and fit a simple logistic regression model... (you shouldn't need to change anything here)"
      ]
    },
    {
      "cell_type": "code",
      "metadata": {
        "id": "l4ppAUIjVA2T"
      },
      "source": [
        "from sklearn.linear_model import LogisticRegression\r\n",
        "\r\n",
        "model = LogisticRegression()\r\n",
        "\r\n",
        "model.fit(X_train, y_train)"
      ],
      "execution_count": null,
      "outputs": []
    },
    {
      "cell_type": "markdown",
      "metadata": {
        "id": "0K31MqISVkFL"
      },
      "source": [
        "5. Make some predictions..."
      ]
    },
    {
      "cell_type": "code",
      "metadata": {
        "id": "jVjd90f0VZbG"
      },
      "source": [
        "model.predict(???)"
      ],
      "execution_count": null,
      "outputs": []
    },
    {
      "cell_type": "code",
      "metadata": {
        "id": "T7jnK-6qVqTb"
      },
      "source": [
        "# save them as variable `preds`\r\n",
        "preds = model.predict(???)"
      ],
      "execution_count": null,
      "outputs": []
    },
    {
      "cell_type": "markdown",
      "metadata": {
        "id": "9UaABA0uV2F9"
      },
      "source": [
        "6. What's the precision of the model? (Hint: Google 'sklearn precision')"
      ]
    },
    {
      "cell_type": "code",
      "metadata": {
        "id": "yPAVz57YV7Gh"
      },
      "source": [
        ""
      ],
      "execution_count": null,
      "outputs": []
    },
    {
      "cell_type": "markdown",
      "metadata": {
        "id": "h9324OB2WCo7"
      },
      "source": [
        "7. What's the recall of the model?"
      ]
    },
    {
      "cell_type": "code",
      "metadata": {
        "id": "5CsuKBsPWE22"
      },
      "source": [
        ""
      ],
      "execution_count": null,
      "outputs": []
    },
    {
      "cell_type": "markdown",
      "metadata": {
        "id": "WZOP7aLEWIIn"
      },
      "source": [
        "8. What's the mean sqared error of the model?"
      ]
    },
    {
      "cell_type": "code",
      "metadata": {
        "id": "eYK7TWeDWLek"
      },
      "source": [
        ""
      ],
      "execution_count": null,
      "outputs": []
    },
    {
      "cell_type": "markdown",
      "metadata": {
        "id": "14spFvU2WMdy"
      },
      "source": [
        "9. Run 2 different cross validations with different scoring parameters ([Help](https://scikit-learn.org/stable/modules/model_evaluation.html#scoring-parameter))\r\n",
        "\r\n",
        "Note: we're doing classification"
      ]
    },
    {
      "cell_type": "code",
      "metadata": {
        "id": "SQyj3rIQWdjz"
      },
      "source": [
        ""
      ],
      "execution_count": null,
      "outputs": []
    },
    {
      "cell_type": "code",
      "metadata": {
        "id": "L70ZHecxYAD9"
      },
      "source": [
        ""
      ],
      "execution_count": null,
      "outputs": []
    },
    {
      "cell_type": "markdown",
      "metadata": {
        "id": "nMAKaWPHWsx0"
      },
      "source": [
        "10. (Bonus) Throw it into a GridSearchCV... (any amount of parameters you want to test out).. of whatever you tested, what are the best parameters?\r\n",
        "\r\n",
        "Note: You can find the possible parameters to adjust in the [LogisticRegression docs](https://scikit-learn.org/stable/modules/generated/sklearn.linear_model.LogisticRegression.html)"
      ]
    },
    {
      "cell_type": "code",
      "metadata": {
        "id": "2ifacFVWW34p"
      },
      "source": [
        "from sklearn.pipeline import make_pipeline\r\n",
        "\r\n",
        "def LR(**kwargs):\r\n",
        "    return make_pipeline(LogisticRegression(**kwargs))"
      ],
      "execution_count": null,
      "outputs": []
    },
    {
      "cell_type": "code",
      "metadata": {
        "id": "7I5fHEVkXVdf"
      },
      "source": [
        "from sklearn.model_selection import GridSearchCV\r\n",
        "\r\n",
        "param_grid = {}\r\n",
        "\r\n",
        "grid = GridSearchCV(LR(), param_grid, cv=7)"
      ],
      "execution_count": null,
      "outputs": []
    },
    {
      "cell_type": "code",
      "metadata": {
        "id": "2aQxI2lOXYwU"
      },
      "source": [
        "# fit the grid\r\n"
      ],
      "execution_count": null,
      "outputs": []
    },
    {
      "cell_type": "code",
      "metadata": {
        "id": "3M86xiSjXbRq"
      },
      "source": [
        "# show me the best params\r\n"
      ],
      "execution_count": null,
      "outputs": []
    },
    {
      "cell_type": "markdown",
      "metadata": {
        "id": "QgyiTHEHYcIr"
      },
      "source": [
        "11. (Bonus Bonus) What's your best r2_score?"
      ]
    },
    {
      "cell_type": "code",
      "metadata": {
        "id": "owe9u6fXYWPN"
      },
      "source": [
        ""
      ],
      "execution_count": null,
      "outputs": []
    }
  ]
}