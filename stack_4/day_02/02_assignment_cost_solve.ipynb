{
  "nbformat": 4,
  "nbformat_minor": 0,
  "metadata": {
    "colab": {
      "name": "02_assignment_cost_solve.ipynb",
      "provenance": [],
      "collapsed_sections": [],
      "include_colab_link": true
    },
    "kernelspec": {
      "name": "python3",
      "display_name": "Python 3"
    }
  },
  "cells": [
    {
      "cell_type": "markdown",
      "metadata": {
        "id": "view-in-github",
        "colab_type": "text"
      },
      "source": [
        "<a href=\"https://colab.research.google.com/github/gumdropsteve/intro_to_machine_learning/blob/main/day_02/02_assignment_cost_solve.ipynb\" target=\"_parent\"><img src=\"https://colab.research.google.com/assets/colab-badge.svg\" alt=\"Open In Colab\"/></a>"
      ]
    },
    {
      "cell_type": "code",
      "metadata": {
        "id": "0DBsWMnDfWJN"
      },
      "source": [
        "%%capture\n",
        "# STARTER CODE - RUN THIS CELL - DO NOT CHANGE\n",
        "!pip install category_encoders\n",
        "import seaborn as sns\n",
        "import pandas as pd\n",
        "import numpy as np\n",
        "import matplotlib.pyplot as plt\n",
        "import category_encoders as ce\n",
        "from sklearn.linear_model import LinearRegression, LogisticRegression\n",
        "from sklearn.preprocessing import StandardScaler\n",
        "from sklearn.model_selection import train_test_split\n",
        "from sklearn.pipeline import make_pipeline\n",
        "from sklearn.metrics import mean_squared_error, mean_absolute_error, accuracy_score, accuracy_score, recall_score, precision_score\n",
        "df_r = sns.load_dataset(\"tips\").dropna()\n",
        "df_c = sns.load_dataset(\"titanic\").dropna()\n",
        "model_r = LinearRegression()\n",
        "model_c = LogisticRegression()\n",
        "x_train_r, x_test_r, y_train_r, y_test_r = train_test_split(df_r.drop(\"total_bill\", axis=1), df_r[\"total_bill\"])\n",
        "x_train_c, x_test_c, y_train_c, y_test_c = train_test_split(df_c.drop([\"survived\", \"alive\", \"adult_male\"], axis=1), df_c[\"survived\"])\n",
        "pipe_r = make_pipeline(ce.OrdinalEncoder(), StandardScaler(), LinearRegression()).fit(x_train_r, y_train_r)\n",
        "pipe_c = make_pipeline(ce.OrdinalEncoder(), StandardScaler(), LogisticRegression()).fit(x_train_c, y_train_c)\n",
        "y_pred_r = pipe_r.predict(x_test_r)\n",
        "y_pred_c = pipe_c.predict(x_test_c)"
      ],
      "execution_count": null,
      "outputs": []
    },
    {
      "cell_type": "markdown",
      "metadata": {
        "id": "JA6ub2bZemNP"
      },
      "source": [
        "# Cost Functions\n",
        "\n",
        "- Without importing any libraries please write a cost function for each of the following listed below.\n",
        "- Do not refrence ANY online resources other than whats provided\n",
        "\n",
        "You can only use these resources, `pandas` and `numpy` to make your functions:\n",
        "- [Mean Squared Error](https://en.wikipedia.org/wiki/Mean_squared_error)\n",
        "- [Mean Absolute Error](https://en.wikipedia.org/wiki/Mean_absolute_error)\n",
        "- [Root Mean Squared Error](https://en.wikipedia.org/wiki/Root-mean-square_deviation)\n",
        "- [Residual Sum of Squares](https://en.wikipedia.org/wiki/Residual_sum_of_squares)\n",
        "- [Precision, Recall, Accuracy](https://en.wikipedia.org/wiki/Confusion_matrix)\n",
        "- [Scikit-Learn](https://scikit-learn.org/stable/index.html)"
      ]
    },
    {
      "cell_type": "markdown",
      "metadata": {
        "id": "39_TltPpf60I"
      },
      "source": [
        "#### Regression Cost Functions\n",
        "\n",
        "- Use `y_test_r` as your true labels\n",
        "- Use `y_pred_r` as your predicted labels"
      ]
    },
    {
      "cell_type": "code",
      "metadata": {
        "colab": {
          "base_uri": "https://localhost:8080/"
        },
        "id": "LgU4Ke0Cd3gw",
        "outputId": "795784b7-1e20-48b1-db15-3e882bb26dd8"
      },
      "source": [
        "# Create a Mean Squared Error Function\n",
        "def mse(y_true, y_pred):\n",
        "    return ((y_true-y_pred)**2).sum()/len(y_true)\n",
        "\n",
        "mse(y_test_r, y_pred_r)"
      ],
      "execution_count": null,
      "outputs": [
        {
          "output_type": "execute_result",
          "data": {
            "text/plain": [
              "47.09567714173636"
            ]
          },
          "metadata": {
            "tags": []
          },
          "execution_count": 2
        }
      ]
    },
    {
      "cell_type": "code",
      "metadata": {
        "colab": {
          "base_uri": "https://localhost:8080/"
        },
        "id": "Eyp3WVY_tuBz",
        "outputId": "414d7ab9-a247-4e74-eed4-a3d63f4dfb91"
      },
      "source": [
        "# Your Mean Squared Error function should equal this value\n",
        "mean_squared_error(y_test_r, y_pred_r)"
      ],
      "execution_count": null,
      "outputs": [
        {
          "output_type": "execute_result",
          "data": {
            "text/plain": [
              "47.09567714173636"
            ]
          },
          "metadata": {
            "tags": []
          },
          "execution_count": 3
        }
      ]
    },
    {
      "cell_type": "code",
      "metadata": {
        "colab": {
          "base_uri": "https://localhost:8080/"
        },
        "id": "n-B-pkxtfAtI",
        "outputId": "86ed9b36-56e0-4ab9-a71f-f774a204c21f"
      },
      "source": [
        "# Create a Mean Absolute Error Function\n",
        "def mae(y_true, y_pred):\n",
        "    return ((y_true-y_pred).abs()).sum()/len(y_true)\n",
        "\n",
        "mae(y_test_r, y_pred_r)"
      ],
      "execution_count": null,
      "outputs": [
        {
          "output_type": "execute_result",
          "data": {
            "text/plain": [
              "5.129776598464773"
            ]
          },
          "metadata": {
            "tags": []
          },
          "execution_count": 4
        }
      ]
    },
    {
      "cell_type": "code",
      "metadata": {
        "colab": {
          "base_uri": "https://localhost:8080/"
        },
        "id": "8ZzkyvrSuCkc",
        "outputId": "f9cd3fc0-0170-49f6-9cb7-4a602aac77a9"
      },
      "source": [
        "# Your Mean Absolute Error function should equal this value\n",
        "mean_absolute_error(y_test_r, y_pred_r)"
      ],
      "execution_count": null,
      "outputs": [
        {
          "output_type": "execute_result",
          "data": {
            "text/plain": [
              "5.129776598464773"
            ]
          },
          "metadata": {
            "tags": []
          },
          "execution_count": 5
        }
      ]
    },
    {
      "cell_type": "code",
      "metadata": {
        "colab": {
          "base_uri": "https://localhost:8080/"
        },
        "id": "w4nobsDJfk4L",
        "outputId": "0c16b843-c8b5-43be-ea78-55fe392fc4f1"
      },
      "source": [
        "# Create a Root Mean Squared Error Function\n",
        "def rmse(y_true, y_pred):\n",
        "    return np.sqrt(np.average((y_true - y_pred)**2, axis=0))\n",
        "\n",
        "rmse(y_test_r, y_pred_r)"
      ],
      "execution_count": null,
      "outputs": [
        {
          "output_type": "execute_result",
          "data": {
            "text/plain": [
              "6.862629025507379"
            ]
          },
          "metadata": {
            "tags": []
          },
          "execution_count": 6
        }
      ]
    },
    {
      "cell_type": "code",
      "metadata": {
        "colab": {
          "base_uri": "https://localhost:8080/"
        },
        "id": "WswkpQCruRyb",
        "outputId": "e4ad66b1-0073-48f7-c91f-b90ccf106b81"
      },
      "source": [
        "# Your Root Mean Squared Error function should equal this value\n",
        "mean_squared_error(y_test_r, y_pred_r, squared=False)"
      ],
      "execution_count": null,
      "outputs": [
        {
          "output_type": "execute_result",
          "data": {
            "text/plain": [
              "6.862629025507379"
            ]
          },
          "metadata": {
            "tags": []
          },
          "execution_count": 7
        }
      ]
    },
    {
      "cell_type": "code",
      "metadata": {
        "colab": {
          "base_uri": "https://localhost:8080/"
        },
        "id": "RcuwEx9qd_hq",
        "outputId": "d37a44a0-908e-46d1-fc58-8d3127345aec"
      },
      "source": [
        "# Create a Sum of Squared Error Function\n",
        "def rss(y_true, y_pred):\n",
        "    return ((y_true-y_pred)**2).sum()\n",
        "\n",
        "rss(y_test_r, y_pred_r)"
      ],
      "execution_count": null,
      "outputs": [
        {
          "output_type": "execute_result",
          "data": {
            "text/plain": [
              "2872.836305645918"
            ]
          },
          "metadata": {
            "tags": []
          },
          "execution_count": 8
        }
      ]
    },
    {
      "cell_type": "markdown",
      "metadata": {
        "id": "fYpJ2jdYf-Et"
      },
      "source": [
        "#### Classification Cost Functions\n",
        "\n",
        "- Use `y_test_c` as your true labels\n",
        "- Use `y_pred_c` as your predicted labels"
      ]
    },
    {
      "cell_type": "code",
      "metadata": {
        "colab": {
          "base_uri": "https://localhost:8080/"
        },
        "id": "aipG_B_7h3yI",
        "outputId": "a8efa5e3-b393-4ed5-9265-d6bd15c1b7ce"
      },
      "source": [
        "# Replace None with the correct value value\n",
        "true_positive = 0\n",
        "true_negative = 0\n",
        "false_positive = 0\n",
        "false_negative = 0\n",
        "\n",
        "# Write a loop to identify true positives, false negatives, false positives, and true negatives\n",
        "for x in range(len(y_test_c)):\n",
        "    if y_test_c.iloc[x] == y_pred_c[x]:\n",
        "        if y_pred_c[x] == 1:\n",
        "            true_positive+=1\n",
        "        if y_pred_c[x] == 0:\n",
        "            true_negative+=1\n",
        "    if y_test_c.iloc[x] != y_pred_c[x]:\n",
        "        if y_pred_c[x] == 1:\n",
        "            false_positive+=1\n",
        "        if y_pred_c[x] == 0:\n",
        "            false_negative+=1\n",
        "\n",
        "print(f\"True Positives: {true_positive}\\nTrue Negatives: {true_negative}\\nFalse Positives: {false_positive}\\nFalse Negatives: {false_negative}\")"
      ],
      "execution_count": null,
      "outputs": [
        {
          "output_type": "stream",
          "text": [
            "True Positives: 25\n",
            "True Negatives: 9\n",
            "False Positives: 6\n",
            "False Negatives: 6\n"
          ],
          "name": "stdout"
        }
      ]
    },
    {
      "cell_type": "code",
      "metadata": {
        "id": "Q3Ctlw2heCig",
        "colab": {
          "base_uri": "https://localhost:8080/"
        },
        "outputId": "62fed813-3d18-474b-ab7d-68c5033faaee"
      },
      "source": [
        "# Create A Function to Calculate Precision\n",
        "def precision(TP, FP):\n",
        "    return TP/(TP+FP) \n",
        "\n",
        "precision(true_positive, false_positive)"
      ],
      "execution_count": null,
      "outputs": [
        {
          "output_type": "execute_result",
          "data": {
            "text/plain": [
              "0.8064516129032258"
            ]
          },
          "metadata": {
            "tags": []
          },
          "execution_count": 10
        }
      ]
    },
    {
      "cell_type": "code",
      "metadata": {
        "colab": {
          "base_uri": "https://localhost:8080/"
        },
        "id": "UpzJxKZJqz9S",
        "outputId": "da114c45-8171-4432-f0f9-108417272964"
      },
      "source": [
        "# Your precision function should equal this value\n",
        "precision_score(y_test_c, y_pred_c)"
      ],
      "execution_count": null,
      "outputs": [
        {
          "output_type": "execute_result",
          "data": {
            "text/plain": [
              "0.8064516129032258"
            ]
          },
          "metadata": {
            "tags": []
          },
          "execution_count": 11
        }
      ]
    },
    {
      "cell_type": "code",
      "metadata": {
        "id": "rAX5khvCedHC",
        "colab": {
          "base_uri": "https://localhost:8080/"
        },
        "outputId": "07bdeba6-5b80-4b23-be9a-06b86ec4ea40"
      },
      "source": [
        "# Create A Function to Calculate Recall\n",
        "def recall(TP, FN):\n",
        "    return TP/(TP+FN)\n",
        "\n",
        "recall(true_positive, false_negative)"
      ],
      "execution_count": null,
      "outputs": [
        {
          "output_type": "execute_result",
          "data": {
            "text/plain": [
              "0.8064516129032258"
            ]
          },
          "metadata": {
            "tags": []
          },
          "execution_count": 12
        }
      ]
    },
    {
      "cell_type": "code",
      "metadata": {
        "colab": {
          "base_uri": "https://localhost:8080/"
        },
        "id": "sPin2Q9Zqk-X",
        "outputId": "3bbac13f-432b-4697-fc89-2323009aca60"
      },
      "source": [
        "# Your recall function should equal this value\n",
        "recall_score(y_test_c, y_pred_c)"
      ],
      "execution_count": null,
      "outputs": [
        {
          "output_type": "execute_result",
          "data": {
            "text/plain": [
              "0.8064516129032258"
            ]
          },
          "metadata": {
            "tags": []
          },
          "execution_count": 13
        }
      ]
    },
    {
      "cell_type": "code",
      "metadata": {
        "id": "RQ8YleBTegvn",
        "colab": {
          "base_uri": "https://localhost:8080/"
        },
        "outputId": "1e20546f-c6c9-4ba4-eb35-b11f2f039c0e"
      },
      "source": [
        "# Create a Function to Calculate Accuracy\n",
        "def accuracy(TP, FP, TN, FN):\n",
        "    return (TP+TN)/(TP+FN+TN+FP)\n",
        "\n",
        "accuracy(true_positive, false_positive, true_negative, false_negative)"
      ],
      "execution_count": null,
      "outputs": [
        {
          "output_type": "execute_result",
          "data": {
            "text/plain": [
              "0.7391304347826086"
            ]
          },
          "metadata": {
            "tags": []
          },
          "execution_count": 14
        }
      ]
    },
    {
      "cell_type": "code",
      "metadata": {
        "colab": {
          "base_uri": "https://localhost:8080/"
        },
        "id": "tzNMG0PmqSkn",
        "outputId": "8ff39b15-50f1-4c5b-d2d8-f6a555286eae"
      },
      "source": [
        "# Your accuracy score function should equal this value\n",
        "accuracy_score(y_test_c, y_pred_c)"
      ],
      "execution_count": null,
      "outputs": [
        {
          "output_type": "execute_result",
          "data": {
            "text/plain": [
              "0.7391304347826086"
            ]
          },
          "metadata": {
            "tags": []
          },
          "execution_count": 15
        }
      ]
    }
  ]
}