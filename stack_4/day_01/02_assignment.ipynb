{
  "nbformat": 4,
  "nbformat_minor": 0,
  "metadata": {
    "kernelspec": {
      "display_name": "Python 3",
      "language": "python",
      "name": "python3"
    },
    "language_info": {
      "codemirror_mode": {
        "name": "ipython",
        "version": 3
      },
      "file_extension": ".py",
      "mimetype": "text/x-python",
      "name": "python",
      "nbconvert_exporter": "python",
      "pygments_lexer": "ipython3",
      "version": "3.8.3"
    },
    "colab": {
      "name": "cost_function_assignment.ipynb",
      "provenance": [],
      "include_colab_link": true
    }
  },
  "cells": [
    {
      "cell_type": "markdown",
      "metadata": {
        "id": "view-in-github",
        "colab_type": "text"
      },
      "source": [
        "<a href=\"https://colab.research.google.com/github/gumdropsteve/intro_to_machine_learning/raw/main/day_01/02_assignment.ipynb\" target=\"_parent\"><img src=\"https://colab.research.google.com/assets/colab-badge.svg\" alt=\"Open In Colab\"/></a>"
      ]
    },
    {
      "cell_type": "markdown",
      "metadata": {
        "id": "Ou8WJhpwJxgH"
      },
      "source": [
        "### Heuristic Models (Cost Function Extension)\n",
        "Look at the Seattle weather in the **data** folder. Come up with a heuristic model to predict if it will rain today. Keep in mind this is a time series, which means that you only know what happened historically (before a given date). One example of a heuristic model is: It will rain tomorrow if it rained more than 1 inch (>1.0 PRCP) today. Describe your heuristic model in the next cell."
      ]
    },
    {
      "cell_type": "markdown",
      "metadata": {
        "id": "9WHuxvx0JxgP"
      },
      "source": [
        "**your model here**  \n",
        "\n",
        "Examples:  \n",
        "\n",
        "If rained yesterday it will rain today.  \n",
        "If it rained yesterday or the day before it will rain today."
      ]
    },
    {
      "cell_type": "code",
      "metadata": {
        "id": "g0VoYQs_JxgQ"
      },
      "source": [
        "#here is an example of how to build and populate a hurestic model\n",
        "\n",
        "import pandas as pd\n",
        "\n",
        "df = pd.read_csv('https://github.com/gumdropsteve/datasets/blob/master/seattle_weather_1948-2017.csv')\n",
        "\n",
        "numrows = 25549 # can be as large as 25549\n",
        "\n",
        "#create an empty dataframe to hold 100 values\n",
        "heuristic_df = pd.DataFrame({'yesterday':[0.0]*numrows,\n",
        "                             'today':[0.0]*numrows,\n",
        "                             'tomorrow':[0.0]*numrows,\n",
        "                             'guess':[False]*numrows, #logical guess\n",
        "                             'rain_tomorrow':[False]*numrows, #historical observation\n",
        "                             'correct':[False]*numrows, #TRUE if your guess matches the historical observation\n",
        "                             'true_positive':[False]*numrows, #TRUE If you said it would rain and it did\n",
        "                             'false_positive':[False]*numrows,#TRUE If you sait id would rain and it didn't\n",
        "                             'true_negative':[False]*numrows, #TRUE if you said it wouldn't rain and it didn't\n",
        "                             'false_negative':[False]*numrows}) #TRUE if you said it wouldn't raing and it did\n",
        "\n",
        "#sort columns for convience\n",
        "seq = ['yesterday',\n",
        "       'today',\n",
        "       'tomorrow',\n",
        "       'guess',\n",
        "       'rain_tomorrow',\n",
        "       'correct',\n",
        "       'true_positive',\n",
        "       'false_positive',\n",
        "       'true_negative',\n",
        "       'false_negative']\n",
        "heuristic_df = heuristic_df.reindex(columns=seq)"
      ],
      "execution_count": null,
      "outputs": []
    },
    {
      "cell_type": "markdown",
      "metadata": {
        "id": "OknJec97JxgT"
      },
      "source": [
        "Build a loop to add your heuristic model guesses as a column to this dataframe"
      ]
    },
    {
      "cell_type": "code",
      "metadata": {
        "id": "tuD097kXJxgU"
      },
      "source": [
        ""
      ],
      "execution_count": null,
      "outputs": []
    },
    {
      "cell_type": "markdown",
      "metadata": {
        "id": "zGjWElC7JxgU"
      },
      "source": [
        "### Evaluate the performance of the Heuristic model"
      ]
    }
  ]
}
